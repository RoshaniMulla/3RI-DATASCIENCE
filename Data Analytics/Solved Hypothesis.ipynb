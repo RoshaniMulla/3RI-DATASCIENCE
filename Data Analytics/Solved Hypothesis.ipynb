{
 "cells": [
  {
   "cell_type": "code",
   "execution_count": 43,
   "id": "146ebef1-e2ea-4179-a395-87457e53c7f8",
   "metadata": {},
   "outputs": [],
   "source": [
    "import numpy as np\n",
    "import pandas as pd\n",
    "import matplotlib.pyplot as plt"
   ]
  },
  {
   "cell_type": "code",
   "execution_count": 2,
   "id": "33549f0e-9f4f-40e1-8f1c-2350d25f492b",
   "metadata": {},
   "outputs": [],
   "source": [
    "def two_tail_z_test(mu, x, n, s):    ### One Sample z Test\n",
    "    res = np.abs(x-mu)/(s/np.sqrt(n))\n",
    "    return res"
   ]
  },
  {
   "cell_type": "code",
   "execution_count": 3,
   "id": "b23685dc-e939-48d9-915f-7cc2e53d065d",
   "metadata": {},
   "outputs": [],
   "source": [
    "def one_tail_z_test(x1, x2, n1, n2, s1, s2):    ### Two Sample z Test\n",
    "    res = np.abs(x1 - x2)/np.sqrt((np.square(s1)/n1)+(np.square(s2)/n2))\n",
    "    return res"
   ]
  },
  {
   "cell_type": "code",
   "execution_count": 4,
   "id": "cddb18ae-447b-419a-8dff-2021ce76b603",
   "metadata": {},
   "outputs": [],
   "source": [
    "mu, x, n, s = 30, 31, 50, 2"
   ]
  },
  {
   "cell_type": "code",
   "execution_count": 5,
   "id": "47615a92-73e6-447e-900c-991a6875467f",
   "metadata": {},
   "outputs": [
    {
     "data": {
      "text/plain": [
       "3.5355339059327378"
      ]
     },
     "execution_count": 5,
     "metadata": {},
     "output_type": "execute_result"
    }
   ],
   "source": [
    "two_tail_z_test(mu, x, n, s)"
   ]
  },
  {
   "cell_type": "code",
   "execution_count": 6,
   "id": "e02b35ba-6eb9-48e9-a9c7-38b0ff492b6c",
   "metadata": {},
   "outputs": [],
   "source": [
    "x1, x2, n1, n2, s1, s2 = 78, 82, 60, 70, 10, 12"
   ]
  },
  {
   "cell_type": "code",
   "execution_count": 7,
   "id": "a722e2ca-5f76-493b-a655-ce823c9c32bf",
   "metadata": {},
   "outputs": [
    {
     "data": {
      "text/plain": [
       "2.072842297864422"
      ]
     },
     "execution_count": 7,
     "metadata": {},
     "output_type": "execute_result"
    }
   ],
   "source": [
    "one_tail_z_test(x1, x2, n1, n2, s1, s2)"
   ]
  },
  {
   "cell_type": "raw",
   "id": "9059222d-6650-4722-9512-c57a8be5c39f",
   "metadata": {},
   "source": [
    "A marketing team tests two different advertisements. Ad A (n=150) results in an average sales increase of 200 with a standard deviation of 50, and Ad B (n=160) results in an average sales increase of 210 with a standard deviation of 55. Determine if there is a significant difference in the effectiveness of the two ads at an alpha level of 0.01. "
   ]
  },
  {
   "cell_type": "code",
   "execution_count": 8,
   "id": "548ad53c-fa28-44ef-9376-eb8c2e82aaef",
   "metadata": {},
   "outputs": [],
   "source": [
    "h0 = \"There is no any significance difference in both advertisements\"\n",
    "ha = \"There is significance difference in both advertisements\""
   ]
  },
  {
   "cell_type": "code",
   "execution_count": 9,
   "id": "2d06fe83-64fa-4921-ae5a-63c0c51b3140",
   "metadata": {},
   "outputs": [],
   "source": [
    "x1, x2, n1, n2, s1, s2 = 200, 210, 150, 160, 50, 55"
   ]
  },
  {
   "cell_type": "code",
   "execution_count": 10,
   "id": "f108bb92-a769-47bd-9aa3-62cf1f615987",
   "metadata": {},
   "outputs": [],
   "source": [
    "z_comp = one_tail_z_test(x1, x2, n1, n2, s1, s2)"
   ]
  },
  {
   "cell_type": "code",
   "execution_count": 11,
   "id": "0d572012-adb4-4879-b3ce-44509d92fcba",
   "metadata": {},
   "outputs": [
    {
     "data": {
      "text/plain": [
       "1.6766416967287225"
      ]
     },
     "execution_count": 11,
     "metadata": {},
     "output_type": "execute_result"
    }
   ],
   "source": [
    "z_comp"
   ]
  },
  {
   "cell_type": "code",
   "execution_count": 12,
   "id": "6252c0b3-2a4c-4c8e-9641-e0027fbba125",
   "metadata": {},
   "outputs": [],
   "source": [
    "z_tab = 2.33"
   ]
  },
  {
   "cell_type": "code",
   "execution_count": 13,
   "id": "f3dfb1a2-75d7-41e6-8bd1-a723717a4caf",
   "metadata": {},
   "outputs": [
    {
     "name": "stdout",
     "output_type": "stream",
     "text": [
      "Accept the null hypothesis There is no any significance difference in both advertisements\n"
     ]
    }
   ],
   "source": [
    "if z_tab > z_comp:\n",
    "    print(\"Accept the null hypothesis\", h0)\n",
    "else:\n",
    "    print(\"Reject the null hypothesis\", ha)"
   ]
  },
  {
   "cell_type": "code",
   "execution_count": null,
   "id": "5d5b110f-1bc3-4fd9-852e-cdbb0c4ed256",
   "metadata": {},
   "outputs": [],
   "source": []
  },
  {
   "cell_type": "code",
   "execution_count": 14,
   "id": "f19617aa-ca01-4540-9df2-966587868337",
   "metadata": {},
   "outputs": [],
   "source": [
    "from scipy.stats import ttest_1samp, ttest_ind, spearmanr, shapiro, chi2_contingency"
   ]
  },
  {
   "cell_type": "code",
   "execution_count": 15,
   "id": "59cf3ed2-c88c-45a7-b914-2e60497ac964",
   "metadata": {},
   "outputs": [
    {
     "data": {
      "text/plain": [
       "(71.89405088680641, 6.005546542129382)"
      ]
     },
     "execution_count": 15,
     "metadata": {},
     "output_type": "execute_result"
    }
   ],
   "source": [
    "marks = np.random.normal(72, 8, 15)\n",
    "marks.mean(), marks.std()"
   ]
  },
  {
   "cell_type": "code",
   "execution_count": 16,
   "id": "f71e551f-eb76-448d-bc80-146d5152586a",
   "metadata": {},
   "outputs": [
    {
     "data": {
      "text/plain": [
       "array([70.53468281, 69.11970727, 82.76955451, 76.67393584, 64.9676212 ,\n",
       "       76.20722567, 68.58812196, 76.60128206, 69.14549152, 67.20167776,\n",
       "       60.87654606, 65.51877859, 74.3356443 , 81.10605668, 74.76443707])"
      ]
     },
     "execution_count": 16,
     "metadata": {},
     "output_type": "execute_result"
    }
   ],
   "source": [
    "marks"
   ]
  },
  {
   "cell_type": "code",
   "execution_count": 17,
   "id": "21b97273-4c0f-4c31-8a33-3592e295a92f",
   "metadata": {},
   "outputs": [],
   "source": [
    "stat_val, p_val = ttest_1samp(marks, 75)"
   ]
  },
  {
   "cell_type": "code",
   "execution_count": 18,
   "id": "de8d1b4d-8e2a-4779-bab2-4919f09603af",
   "metadata": {},
   "outputs": [
    {
     "data": {
      "text/plain": [
       "(-1.9351107115396984, 0.07344118456433636)"
      ]
     },
     "execution_count": 18,
     "metadata": {},
     "output_type": "execute_result"
    }
   ],
   "source": [
    "stat_val, p_val"
   ]
  },
  {
   "cell_type": "code",
   "execution_count": 19,
   "id": "5e9c5932-4432-408f-9d9e-f3773c3929e3",
   "metadata": {},
   "outputs": [],
   "source": [
    "alpha = 0.05"
   ]
  },
  {
   "cell_type": "code",
   "execution_count": 20,
   "id": "6cf6b8c4-7e2e-426b-b485-802b205ee202",
   "metadata": {},
   "outputs": [],
   "source": [
    "h0 = \"Average score is 75\"\n",
    "ha = \"Average score is not 75\""
   ]
  },
  {
   "cell_type": "code",
   "execution_count": 21,
   "id": "1a296f4c-1fdd-4ffa-aba5-6905fab74301",
   "metadata": {},
   "outputs": [
    {
     "name": "stdout",
     "output_type": "stream",
     "text": [
      "Accept the null hypothesis Average score is 75\n"
     ]
    }
   ],
   "source": [
    "if alpha < p_val:\n",
    "    print(\"Accept the null hypothesis\", h0)\n",
    "else:\n",
    "    print(\"Reject the null hypothesis\", ha)"
   ]
  },
  {
   "cell_type": "raw",
   "id": "19cab108-7140-4d33-971a-d3e7c0981203",
   "metadata": {},
   "source": [
    "2. A brewery claims that their beer contains 5% alcohol by volume. A sample of 20 bottles shows a mean alcohol content of 4.8% with a standard deviation of 0.3%. Test the brewery's claim at an alpha level of 0.01. "
   ]
  },
  {
   "cell_type": "code",
   "execution_count": 22,
   "id": "24de8435-8847-471a-b011-4753f12632c2",
   "metadata": {},
   "outputs": [
    {
     "data": {
      "text/plain": [
       "(4.714111819820204, 0.3031228339180517)"
      ]
     },
     "execution_count": 22,
     "metadata": {},
     "output_type": "execute_result"
    }
   ],
   "source": [
    "alc = np.random.normal(4.8, 0.3, 20)\n",
    "alc.mean(), alc.std()"
   ]
  },
  {
   "cell_type": "code",
   "execution_count": 23,
   "id": "d9ff436f-28b3-4adb-8bfc-d5881d4c4a6b",
   "metadata": {},
   "outputs": [],
   "source": [
    "h0 = \"Average alcohol contain is 5%\"\n",
    "ha = \"Average alcohol contain is not 5%\""
   ]
  },
  {
   "cell_type": "code",
   "execution_count": 24,
   "id": "b992a919-c7dc-41a6-9bd4-2d511ed8b7e0",
   "metadata": {},
   "outputs": [],
   "source": [
    "alpha = 0.01"
   ]
  },
  {
   "cell_type": "code",
   "execution_count": 25,
   "id": "346f617a-a590-43de-8a10-1526f015b543",
   "metadata": {},
   "outputs": [],
   "source": [
    "stat_val, p_val = ttest_1samp(alc, 5)"
   ]
  },
  {
   "cell_type": "code",
   "execution_count": 26,
   "id": "bf7ee825-3348-43b8-84bf-55aa33a82e20",
   "metadata": {},
   "outputs": [
    {
     "data": {
      "text/plain": [
       "(-4.1110650439926095, 0.0005945344917550617)"
      ]
     },
     "execution_count": 26,
     "metadata": {},
     "output_type": "execute_result"
    }
   ],
   "source": [
    "stat_val, p_val"
   ]
  },
  {
   "cell_type": "code",
   "execution_count": 27,
   "id": "f74b2435-6309-409c-8554-55b195dbad60",
   "metadata": {},
   "outputs": [
    {
     "name": "stdout",
     "output_type": "stream",
     "text": [
      "Reject the null hypothesis Average alcohol contain is not 5%\n"
     ]
    }
   ],
   "source": [
    "if alpha < p_val:\n",
    "    print(\"Accept the null hypothesis\", h0)\n",
    "else:\n",
    "    print(\"Reject the null hypothesis\", ha)"
   ]
  },
  {
   "cell_type": "raw",
   "id": "a99f9704-eba3-4cfb-9bf9-89720317cb6a",
   "metadata": {},
   "source": [
    "A manufacturer claims that the average lifetime of their light bulbs is 1000 hours. A sample of 25 bulbs has a mean lifetime of 990 hours with a standard deviation of 15 hours. Test the manufacturer's claim at an alpha level of 0.1. "
   ]
  },
  {
   "cell_type": "code",
   "execution_count": 28,
   "id": "3a8c3cbd-9284-48bf-9427-7a4b0c1a1aa7",
   "metadata": {},
   "outputs": [
    {
     "data": {
      "text/plain": [
       "(989.7329916072075, 10.745433085368497)"
      ]
     },
     "execution_count": 28,
     "metadata": {},
     "output_type": "execute_result"
    }
   ],
   "source": [
    "bulb_life = np.random.normal(990, 15, 25)\n",
    "bulb_life.mean(), bulb_life.std()"
   ]
  },
  {
   "cell_type": "code",
   "execution_count": 29,
   "id": "422d95b1-7e99-48ff-ab6a-fcb5fe506179",
   "metadata": {},
   "outputs": [],
   "source": [
    "h0 = \"Average life of bulb is 1000 hours\"\n",
    "ha = \"Average life of bulb is not 1000 hours\""
   ]
  },
  {
   "cell_type": "code",
   "execution_count": 30,
   "id": "cd03fdca-477e-4b9a-96c6-965c8c282e35",
   "metadata": {},
   "outputs": [],
   "source": [
    "alpha = 0.1"
   ]
  },
  {
   "cell_type": "code",
   "execution_count": 31,
   "id": "1f47c502-6d0e-4928-bd13-217d863a10f2",
   "metadata": {},
   "outputs": [],
   "source": [
    "stat_val, p_val = ttest_1samp(bulb_life, 1000)"
   ]
  },
  {
   "cell_type": "code",
   "execution_count": 32,
   "id": "4cd6d621-5e28-4327-aa8b-ce12dcf2de21",
   "metadata": {},
   "outputs": [
    {
     "data": {
      "text/plain": [
       "(-4.680859588890469, 9.348682015262117e-05)"
      ]
     },
     "execution_count": 32,
     "metadata": {},
     "output_type": "execute_result"
    }
   ],
   "source": [
    "stat_val, p_val"
   ]
  },
  {
   "cell_type": "code",
   "execution_count": 33,
   "id": "428e2986-294b-458f-9efd-0c22d95787d8",
   "metadata": {},
   "outputs": [
    {
     "name": "stdout",
     "output_type": "stream",
     "text": [
      "Reject the null hypothesis Average life of bulb is not 1000 hours\n"
     ]
    }
   ],
   "source": [
    "if alpha < p_val:\n",
    "    print(\"Accept the null hypothesis\", h0)\n",
    "else:\n",
    "    print(\"Reject the null hypothesis\", ha)"
   ]
  },
  {
   "cell_type": "raw",
   "id": "51ae9879-a64f-42dd-8a33-a96fcc2e39ec",
   "metadata": {},
   "source": [
    "Two different teaching methods are tested for their effectiveness. Method A is used on a sample of 20 students, resulting in a mean score of 85 with a standard deviation of 5. Method B is used on a sample of 22 students, resulting in a mean score of 88 with a standard deviation of 6. Test if there is a significant difference between the two methods at an alpha level of 0.05. "
   ]
  },
  {
   "cell_type": "code",
   "execution_count": 34,
   "id": "9c8b6315-6bcd-4d7b-aec3-ac5f6eaf9917",
   "metadata": {},
   "outputs": [
    {
     "data": {
      "text/plain": [
       "(85.63206039286695, 4.2112286884742325)"
      ]
     },
     "execution_count": 34,
     "metadata": {},
     "output_type": "execute_result"
    }
   ],
   "source": [
    "a = np.random.normal(85, 5, 20)\n",
    "a.mean(), a.std()"
   ]
  },
  {
   "cell_type": "code",
   "execution_count": 35,
   "id": "5465d649-ead4-4ffd-be91-7c1c42ad3704",
   "metadata": {},
   "outputs": [
    {
     "data": {
      "text/plain": [
       "(87.72784877128919, 5.027131399137471)"
      ]
     },
     "execution_count": 35,
     "metadata": {},
     "output_type": "execute_result"
    }
   ],
   "source": [
    "b = np.random.normal(88, 6, 22)\n",
    "b.mean(), b.std()"
   ]
  },
  {
   "cell_type": "code",
   "execution_count": 36,
   "id": "157a0e55-6180-4135-a23d-72f3faa11c48",
   "metadata": {},
   "outputs": [],
   "source": [
    "h0 = \"The method A is similar to method B\"\n",
    "ha = \"There is significant difference between method A and method B\""
   ]
  },
  {
   "cell_type": "code",
   "execution_count": 37,
   "id": "1a57f17f-8d3d-44c0-9484-662b607a7048",
   "metadata": {},
   "outputs": [],
   "source": [
    "stat_val, p_val = ttest_ind(a, b)"
   ]
  },
  {
   "cell_type": "code",
   "execution_count": 38,
   "id": "4571e17b-9be9-4599-8b27-b53a16ceaa6b",
   "metadata": {},
   "outputs": [],
   "source": [
    "alpha = 0.05"
   ]
  },
  {
   "cell_type": "code",
   "execution_count": 39,
   "id": "2b0f3afa-15c5-4267-8643-2f4d5d14a622",
   "metadata": {},
   "outputs": [
    {
     "data": {
      "text/plain": [
       "(-1.4216661970374957, 0.1628737387515969)"
      ]
     },
     "execution_count": 39,
     "metadata": {},
     "output_type": "execute_result"
    }
   ],
   "source": [
    "stat_val, p_val"
   ]
  },
  {
   "cell_type": "code",
   "execution_count": 40,
   "id": "3fde8ac4-fc91-489c-8e5b-26bd5563b469",
   "metadata": {},
   "outputs": [
    {
     "name": "stdout",
     "output_type": "stream",
     "text": [
      "Accept the null hypothesis The method A is similar to method B\n"
     ]
    }
   ],
   "source": [
    "if alpha < p_val:\n",
    "    print(\"Accept the null hypothesis\", h0)\n",
    "else:\n",
    "    print(\"Reject the null hypothesis\", ha)"
   ]
  },
  {
   "cell_type": "code",
   "execution_count": null,
   "id": "a753db28-ac60-4388-96c1-d5357bbe5552",
   "metadata": {},
   "outputs": [],
   "source": []
  },
  {
   "cell_type": "code",
   "execution_count": 54,
   "id": "db5bb00c-da2d-4569-af2f-b66e31796893",
   "metadata": {},
   "outputs": [],
   "source": [
    "x = np.random.randint(1, 9, 10)\n",
    "y = np.random.randint(100, 900, 10)"
   ]
  },
  {
   "cell_type": "code",
   "execution_count": 55,
   "id": "7936c152-eee5-47b1-a306-feb80fc5e1e9",
   "metadata": {},
   "outputs": [
    {
     "data": {
      "text/plain": [
       "(array([7, 2, 3, 4, 4, 4, 4, 4, 8, 5]),\n",
       " array([133, 841, 347, 195, 558, 763, 424, 116, 390, 274]))"
      ]
     },
     "execution_count": 55,
     "metadata": {},
     "output_type": "execute_result"
    }
   ],
   "source": [
    "x, y"
   ]
  },
  {
   "cell_type": "code",
   "execution_count": 56,
   "id": "00d46d9a-59db-4d3e-9028-cf30b48136da",
   "metadata": {},
   "outputs": [],
   "source": [
    "spearman_corr, p_val = spearmanr(x, y)"
   ]
  },
  {
   "cell_type": "code",
   "execution_count": 60,
   "id": "544fabf3-42a0-4cab-b62a-b5493167ad59",
   "metadata": {},
   "outputs": [
    {
     "data": {
      "text/plain": [
       "(-0.42023031949290335, 0.22660334321039322)"
      ]
     },
     "execution_count": 60,
     "metadata": {},
     "output_type": "execute_result"
    }
   ],
   "source": [
    "spearman_corr, p_val     # -1 or +1 Strong Correlation 0 no correlation"
   ]
  },
  {
   "cell_type": "code",
   "execution_count": 58,
   "id": "2cfbd6fc-7ba8-42ed-af54-1b12b211d371",
   "metadata": {},
   "outputs": [],
   "source": [
    "h0 = \"There is strong correlation in both the data\"\n",
    "ha = \"There is no correlation in both the data\""
   ]
  },
  {
   "cell_type": "code",
   "execution_count": 59,
   "id": "02a3d4a8-9c36-4e85-9c8c-1372fbe9c582",
   "metadata": {},
   "outputs": [
    {
     "name": "stdout",
     "output_type": "stream",
     "text": [
      "Accept the null hypothesis There is strong correlation in both the data\n"
     ]
    }
   ],
   "source": [
    "alpha = 0.05\n",
    "if alpha < p_val:\n",
    "    print(\"Accept the null hypothesis\", h0)\n",
    "else:\n",
    "    print(\"Reject the null hypothesis\", ha)"
   ]
  },
  {
   "cell_type": "code",
   "execution_count": 70,
   "id": "88dcb250-2437-4ce0-8490-90aaefcfa12a",
   "metadata": {},
   "outputs": [],
   "source": [
    "x1 = np.array([1, 2, 3, 4, 5, 6])\n",
    "y1 = np.array([1, 1, 1, 1, 1, 0])"
   ]
  },
  {
   "cell_type": "code",
   "execution_count": 71,
   "id": "aeffb114-a098-42a1-80d1-162973cd978c",
   "metadata": {},
   "outputs": [],
   "source": [
    "spearman_corr, p_val = spearmanr(x1, y1)"
   ]
  },
  {
   "cell_type": "code",
   "execution_count": 72,
   "id": "a440d47e-d5ae-4f14-a171-3c0820e3476a",
   "metadata": {},
   "outputs": [
    {
     "data": {
      "text/plain": [
       "(-0.6546536707079772, 0.15830242337545783)"
      ]
     },
     "execution_count": 72,
     "metadata": {},
     "output_type": "execute_result"
    }
   ],
   "source": [
    "spearman_corr, p_val     # -1 or +1 Strong Correlation 0 no correlation"
   ]
  },
  {
   "cell_type": "code",
   "execution_count": 73,
   "id": "88bb032e-1378-4bc8-b8f6-ef78ff5d1bb6",
   "metadata": {},
   "outputs": [
    {
     "name": "stdout",
     "output_type": "stream",
     "text": [
      "Accept the null hypothesis There is strong correlation in both the data\n"
     ]
    }
   ],
   "source": [
    "alpha = 0.05\n",
    "if alpha < p_val:\n",
    "    print(\"Accept the null hypothesis\", h0)\n",
    "else:\n",
    "    print(\"Reject the null hypothesis\", ha)"
   ]
  },
  {
   "cell_type": "code",
   "execution_count": null,
   "id": "581c3eb2-1a03-49c1-b56c-074b9503465b",
   "metadata": {},
   "outputs": [],
   "source": []
  },
  {
   "cell_type": "code",
   "execution_count": 78,
   "id": "4984c592-f82b-4923-a075-b5c7936e9d73",
   "metadata": {},
   "outputs": [],
   "source": [
    "data2 = np.random.normal(10, 4, 20)"
   ]
  },
  {
   "cell_type": "code",
   "execution_count": 79,
   "id": "788b0ec3-c563-414b-8728-b24417a5f56c",
   "metadata": {
    "scrolled": true
   },
   "outputs": [
    {
     "data": {
      "image/png": "[encoded data removed]",
      "text/plain": [
       "<Figure size 640x480 with 1 Axes>"
      ]
     },
     "metadata": {},
     "output_type": "display_data"
    }
   ],
   "source": [
    "plt.hist(data2)\n",
    "plt.show()"
   ]
  },
  {
   "cell_type": "code",
   "execution_count": 80,
   "id": "e3834c55-b61c-44a1-acb3-758214760059",
   "metadata": {},
   "outputs": [],
   "source": [
    "h0 = \"Data is normal\"\n",
    "ha = \"Data is not normal\""
   ]
  },
  {
   "cell_type": "code",
   "execution_count": 81,
   "id": "fdd3198e-aa4d-41b2-82b2-ca67c5b95622",
   "metadata": {},
   "outputs": [],
   "source": [
    "shapiro_val, p_val = shapiro(data2)"
   ]
  },
  {
   "cell_type": "code",
   "execution_count": 82,
   "id": "fef42186-3850-46da-a287-5bea34983d8e",
   "metadata": {},
   "outputs": [
    {
     "data": {
      "text/plain": [
       "(0.985917538186859, 0.9865867684517142)"
      ]
     },
     "execution_count": 82,
     "metadata": {},
     "output_type": "execute_result"
    }
   ],
   "source": [
    "shapiro_val, p_val"
   ]
  },
  {
   "cell_type": "code",
   "execution_count": 83,
   "id": "bbf597e1-0193-419b-bfbe-bb56e8860ae1",
   "metadata": {},
   "outputs": [
    {
     "name": "stdout",
     "output_type": "stream",
     "text": [
      "Accept the null hypothesis Data is normal\n"
     ]
    }
   ],
   "source": [
    "alpha = 0.05\n",
    "if alpha < p_val:\n",
    "    print(\"Accept the null hypothesis\", h0)\n",
    "else:\n",
    "    print(\"Reject the null hypothesis\", ha)"
   ]
  },
  {
   "cell_type": "code",
   "execution_count": 84,
   "id": "0630263f-12b3-4c27-8ee7-d2bd5df58e64",
   "metadata": {},
   "outputs": [],
   "source": [
    "data3 = np.random.randint(1, 10, 100)"
   ]
  },
  {
   "cell_type": "code",
   "execution_count": 86,
   "id": "404d7518-9502-4bbe-b2ff-3d3527014671",
   "metadata": {
    "scrolled": true
   },
   "outputs": [
    {
     "data": {
      "image/png": "[encoded data removed]",
      "text/plain": [
       "<Figure size 640x480 with 1 Axes>"
      ]
     },
     "metadata": {},
     "output_type": "display_data"
    }
   ],
   "source": [
    "plt.hist(data3)\n",
    "plt.show()"
   ]
  },
  {
   "cell_type": "code",
   "execution_count": 87,
   "id": "5bd62e88-d2d3-4a59-9098-d3d399a181e0",
   "metadata": {},
   "outputs": [],
   "source": [
    "shapiro_val, p_val = shapiro(data3)"
   ]
  },
  {
   "cell_type": "code",
   "execution_count": 88,
   "id": "70f9c0f8-569a-4324-ad79-17f54e7e8f42",
   "metadata": {},
   "outputs": [
    {
     "data": {
      "text/plain": [
       "(0.9125398314610627, 5.779922545265935e-06)"
      ]
     },
     "execution_count": 88,
     "metadata": {},
     "output_type": "execute_result"
    }
   ],
   "source": [
    "shapiro_val, p_val"
   ]
  },
  {
   "cell_type": "code",
   "execution_count": 89,
   "id": "bce48f2d-367f-4c7c-af04-a1b9e8e8fcb9",
   "metadata": {},
   "outputs": [
    {
     "name": "stdout",
     "output_type": "stream",
     "text": [
      "Reject the null hypothesis Data is not normal\n"
     ]
    }
   ],
   "source": [
    "alpha = 0.05\n",
    "if alpha < p_val:\n",
    "    print(\"Accept the null hypothesis\", h0)\n",
    "else:\n",
    "    print(\"Reject the null hypothesis\", ha)"
   ]
  },
  {
   "cell_type": "code",
   "execution_count": 90,
   "id": "36f5eebe-8e46-418d-88a5-39a3cba1e2d0",
   "metadata": {},
   "outputs": [],
   "source": [
    "data4 = np.random.rand(50)"
   ]
  },
  {
   "cell_type": "code",
   "execution_count": 91,
   "id": "ac4c8c1b-a906-4ae0-b645-25b86866ffc9",
   "metadata": {
    "scrolled": true
   },
   "outputs": [
    {
     "data": {
      "image/png": "[encoded data removed]",
      "text/plain": [
       "<Figure size 640x480 with 1 Axes>"
      ]
     },
     "metadata": {},
     "output_type": "display_data"
    }
   ],
   "source": [
    "plt.hist(data4)\n",
    "plt.show()"
   ]
  },
  {
   "cell_type": "code",
   "execution_count": 92,
   "id": "100ddc47-776d-4902-9070-fe72e76dc3a9",
   "metadata": {},
   "outputs": [],
   "source": [
    "shapiro_val, p_val = shapiro(data4)"
   ]
  },
  {
   "cell_type": "code",
   "execution_count": 93,
   "id": "e2af6799-ff99-476a-a30d-93805ec6e055",
   "metadata": {},
   "outputs": [
    {
     "data": {
      "text/plain": [
       "(0.9514859016279267, 0.03927626975532875)"
      ]
     },
     "execution_count": 93,
     "metadata": {},
     "output_type": "execute_result"
    }
   ],
   "source": [
    "shapiro_val, p_val"
   ]
  },
  {
   "cell_type": "code",
   "execution_count": 94,
   "id": "37d0aee4-f437-4921-a3eb-b7cc5a084dd6",
   "metadata": {},
   "outputs": [
    {
     "name": "stdout",
     "output_type": "stream",
     "text": [
      "Reject the null hypothesis Data is not normal\n"
     ]
    }
   ],
   "source": [
    "alpha = 0.05\n",
    "if alpha < p_val:\n",
    "    print(\"Accept the null hypothesis\", h0)\n",
    "else:\n",
    "    print(\"Reject the null hypothesis\", ha)"
   ]
  },
  {
   "cell_type": "code",
   "execution_count": null,
   "id": "c3045f90-5f28-4d75-a8de-77918c500626",
   "metadata": {},
   "outputs": [],
   "source": []
  },
  {
   "cell_type": "code",
   "execution_count": null,
   "id": "f78fac1a-e1d5-422f-9401-0354464495ef",
   "metadata": {},
   "outputs": [],
   "source": []
  },
  {
   "cell_type": "code",
   "execution_count": 119,
   "id": "ffc61463-248c-4d94-b522-66409bb6941b",
   "metadata": {},
   "outputs": [],
   "source": [
    "profession = np.random.choice([\"Doctor\", \"Engineer\", \"Advocate\"], 50)\n",
    "colony = np.random.choice([\"A\", \"B\", \"C\", \"D\"], 50)"
   ]
  },
  {
   "cell_type": "code",
   "execution_count": 120,
   "id": "9f9acb66-03a5-45d5-ba27-19df255a20eb",
   "metadata": {},
   "outputs": [],
   "source": [
    "df = pd.DataFrame({\"Profession\":profession, \"Colony\":colony})"
   ]
  },
  {
   "cell_type": "code",
   "execution_count": 121,
   "id": "e4c1a75d-b062-44ed-9e7a-f2fe652b84c6",
   "metadata": {
    "scrolled": true
   },
   "outputs": [
    {
     "data": {
      "text/html": [
       "<div>\n",
       "<style scoped>\n",
       "    .dataframe tbody tr th:only-of-type {\n",
       "        vertical-align: middle;\n",
       "    }\n",
       "\n",
       "    .dataframe tbody tr th {\n",
       "        vertical-align: top;\n",
       "    }\n",
       "\n",
       "    .dataframe thead th {\n",
       "        text-align: right;\n",
       "    }\n",
       "</style>\n",
       "<table border=\"1\" class=\"dataframe\">\n",
       "  <thead>\n",
       "    <tr style=\"text-align: right;\">\n",
       "      <th></th>\n",
       "      <th>Profession</th>\n",
       "      <th>Colony</th>\n",
       "    </tr>\n",
       "  </thead>\n",
       "  <tbody>\n",
       "    <tr>\n",
       "      <th>0</th>\n",
       "      <td>Engineer</td>\n",
       "      <td>B</td>\n",
       "    </tr>\n",
       "    <tr>\n",
       "      <th>1</th>\n",
       "      <td>Advocate</td>\n",
       "      <td>D</td>\n",
       "    </tr>\n",
       "    <tr>\n",
       "      <th>2</th>\n",
       "      <td>Doctor</td>\n",
       "      <td>D</td>\n",
       "    </tr>\n",
       "    <tr>\n",
       "      <th>3</th>\n",
       "      <td>Advocate</td>\n",
       "      <td>A</td>\n",
       "    </tr>\n",
       "    <tr>\n",
       "      <th>4</th>\n",
       "      <td>Advocate</td>\n",
       "      <td>D</td>\n",
       "    </tr>\n",
       "    <tr>\n",
       "      <th>5</th>\n",
       "      <td>Engineer</td>\n",
       "      <td>C</td>\n",
       "    </tr>\n",
       "    <tr>\n",
       "      <th>6</th>\n",
       "      <td>Engineer</td>\n",
       "      <td>C</td>\n",
       "    </tr>\n",
       "    <tr>\n",
       "      <th>7</th>\n",
       "      <td>Advocate</td>\n",
       "      <td>D</td>\n",
       "    </tr>\n",
       "    <tr>\n",
       "      <th>8</th>\n",
       "      <td>Doctor</td>\n",
       "      <td>B</td>\n",
       "    </tr>\n",
       "    <tr>\n",
       "      <th>9</th>\n",
       "      <td>Engineer</td>\n",
       "      <td>C</td>\n",
       "    </tr>\n",
       "    <tr>\n",
       "      <th>10</th>\n",
       "      <td>Doctor</td>\n",
       "      <td>B</td>\n",
       "    </tr>\n",
       "    <tr>\n",
       "      <th>11</th>\n",
       "      <td>Engineer</td>\n",
       "      <td>D</td>\n",
       "    </tr>\n",
       "    <tr>\n",
       "      <th>12</th>\n",
       "      <td>Doctor</td>\n",
       "      <td>C</td>\n",
       "    </tr>\n",
       "    <tr>\n",
       "      <th>13</th>\n",
       "      <td>Doctor</td>\n",
       "      <td>B</td>\n",
       "    </tr>\n",
       "    <tr>\n",
       "      <th>14</th>\n",
       "      <td>Engineer</td>\n",
       "      <td>C</td>\n",
       "    </tr>\n",
       "    <tr>\n",
       "      <th>15</th>\n",
       "      <td>Advocate</td>\n",
       "      <td>B</td>\n",
       "    </tr>\n",
       "    <tr>\n",
       "      <th>16</th>\n",
       "      <td>Doctor</td>\n",
       "      <td>A</td>\n",
       "    </tr>\n",
       "    <tr>\n",
       "      <th>17</th>\n",
       "      <td>Engineer</td>\n",
       "      <td>A</td>\n",
       "    </tr>\n",
       "    <tr>\n",
       "      <th>18</th>\n",
       "      <td>Engineer</td>\n",
       "      <td>D</td>\n",
       "    </tr>\n",
       "    <tr>\n",
       "      <th>19</th>\n",
       "      <td>Advocate</td>\n",
       "      <td>B</td>\n",
       "    </tr>\n",
       "    <tr>\n",
       "      <th>20</th>\n",
       "      <td>Engineer</td>\n",
       "      <td>D</td>\n",
       "    </tr>\n",
       "    <tr>\n",
       "      <th>21</th>\n",
       "      <td>Engineer</td>\n",
       "      <td>A</td>\n",
       "    </tr>\n",
       "    <tr>\n",
       "      <th>22</th>\n",
       "      <td>Engineer</td>\n",
       "      <td>B</td>\n",
       "    </tr>\n",
       "    <tr>\n",
       "      <th>23</th>\n",
       "      <td>Doctor</td>\n",
       "      <td>A</td>\n",
       "    </tr>\n",
       "    <tr>\n",
       "      <th>24</th>\n",
       "      <td>Advocate</td>\n",
       "      <td>C</td>\n",
       "    </tr>\n",
       "    <tr>\n",
       "      <th>25</th>\n",
       "      <td>Engineer</td>\n",
       "      <td>B</td>\n",
       "    </tr>\n",
       "    <tr>\n",
       "      <th>26</th>\n",
       "      <td>Advocate</td>\n",
       "      <td>A</td>\n",
       "    </tr>\n",
       "    <tr>\n",
       "      <th>27</th>\n",
       "      <td>Advocate</td>\n",
       "      <td>C</td>\n",
       "    </tr>\n",
       "    <tr>\n",
       "      <th>28</th>\n",
       "      <td>Advocate</td>\n",
       "      <td>D</td>\n",
       "    </tr>\n",
       "    <tr>\n",
       "      <th>29</th>\n",
       "      <td>Advocate</td>\n",
       "      <td>B</td>\n",
       "    </tr>\n",
       "    <tr>\n",
       "      <th>30</th>\n",
       "      <td>Doctor</td>\n",
       "      <td>A</td>\n",
       "    </tr>\n",
       "    <tr>\n",
       "      <th>31</th>\n",
       "      <td>Engineer</td>\n",
       "      <td>D</td>\n",
       "    </tr>\n",
       "    <tr>\n",
       "      <th>32</th>\n",
       "      <td>Doctor</td>\n",
       "      <td>D</td>\n",
       "    </tr>\n",
       "    <tr>\n",
       "      <th>33</th>\n",
       "      <td>Advocate</td>\n",
       "      <td>C</td>\n",
       "    </tr>\n",
       "    <tr>\n",
       "      <th>34</th>\n",
       "      <td>Doctor</td>\n",
       "      <td>A</td>\n",
       "    </tr>\n",
       "    <tr>\n",
       "      <th>35</th>\n",
       "      <td>Engineer</td>\n",
       "      <td>D</td>\n",
       "    </tr>\n",
       "    <tr>\n",
       "      <th>36</th>\n",
       "      <td>Doctor</td>\n",
       "      <td>C</td>\n",
       "    </tr>\n",
       "    <tr>\n",
       "      <th>37</th>\n",
       "      <td>Doctor</td>\n",
       "      <td>B</td>\n",
       "    </tr>\n",
       "    <tr>\n",
       "      <th>38</th>\n",
       "      <td>Engineer</td>\n",
       "      <td>C</td>\n",
       "    </tr>\n",
       "    <tr>\n",
       "      <th>39</th>\n",
       "      <td>Doctor</td>\n",
       "      <td>A</td>\n",
       "    </tr>\n",
       "    <tr>\n",
       "      <th>40</th>\n",
       "      <td>Doctor</td>\n",
       "      <td>B</td>\n",
       "    </tr>\n",
       "    <tr>\n",
       "      <th>41</th>\n",
       "      <td>Doctor</td>\n",
       "      <td>A</td>\n",
       "    </tr>\n",
       "    <tr>\n",
       "      <th>42</th>\n",
       "      <td>Doctor</td>\n",
       "      <td>A</td>\n",
       "    </tr>\n",
       "    <tr>\n",
       "      <th>43</th>\n",
       "      <td>Doctor</td>\n",
       "      <td>D</td>\n",
       "    </tr>\n",
       "    <tr>\n",
       "      <th>44</th>\n",
       "      <td>Advocate</td>\n",
       "      <td>B</td>\n",
       "    </tr>\n",
       "    <tr>\n",
       "      <th>45</th>\n",
       "      <td>Advocate</td>\n",
       "      <td>A</td>\n",
       "    </tr>\n",
       "    <tr>\n",
       "      <th>46</th>\n",
       "      <td>Advocate</td>\n",
       "      <td>A</td>\n",
       "    </tr>\n",
       "    <tr>\n",
       "      <th>47</th>\n",
       "      <td>Advocate</td>\n",
       "      <td>B</td>\n",
       "    </tr>\n",
       "    <tr>\n",
       "      <th>48</th>\n",
       "      <td>Engineer</td>\n",
       "      <td>C</td>\n",
       "    </tr>\n",
       "    <tr>\n",
       "      <th>49</th>\n",
       "      <td>Advocate</td>\n",
       "      <td>B</td>\n",
       "    </tr>\n",
       "  </tbody>\n",
       "</table>\n",
       "</div>"
      ],
      "text/plain": [
       "   Profession Colony\n",
       "0    Engineer      B\n",
       "1    Advocate      D\n",
       "2      Doctor      D\n",
       "3    Advocate      A\n",
       "4    Advocate      D\n",
       "5    Engineer      C\n",
       "6    Engineer      C\n",
       "7    Advocate      D\n",
       "8      Doctor      B\n",
       "9    Engineer      C\n",
       "10     Doctor      B\n",
       "11   Engineer      D\n",
       "12     Doctor      C\n",
       "13     Doctor      B\n",
       "14   Engineer      C\n",
       "15   Advocate      B\n",
       "16     Doctor      A\n",
       "17   Engineer      A\n",
       "18   Engineer      D\n",
       "19   Advocate      B\n",
       "20   Engineer      D\n",
       "21   Engineer      A\n",
       "22   Engineer      B\n",
       "23     Doctor      A\n",
       "24   Advocate      C\n",
       "25   Engineer      B\n",
       "26   Advocate      A\n",
       "27   Advocate      C\n",
       "28   Advocate      D\n",
       "29   Advocate      B\n",
       "30     Doctor      A\n",
       "31   Engineer      D\n",
       "32     Doctor      D\n",
       "33   Advocate      C\n",
       "34     Doctor      A\n",
       "35   Engineer      D\n",
       "36     Doctor      C\n",
       "37     Doctor      B\n",
       "38   Engineer      C\n",
       "39     Doctor      A\n",
       "40     Doctor      B\n",
       "41     Doctor      A\n",
       "42     Doctor      A\n",
       "43     Doctor      D\n",
       "44   Advocate      B\n",
       "45   Advocate      A\n",
       "46   Advocate      A\n",
       "47   Advocate      B\n",
       "48   Engineer      C\n",
       "49   Advocate      B"
      ]
     },
     "execution_count": 121,
     "metadata": {},
     "output_type": "execute_result"
    }
   ],
   "source": [
    "df"
   ]
  },
  {
   "cell_type": "code",
   "execution_count": 122,
   "id": "f5142807-8ac5-4f51-9a43-1e222ba046eb",
   "metadata": {},
   "outputs": [],
   "source": [
    "pd.crosstab(df[\"Profession\"], df[\"Colony\"]).to_excel(\"colony.xlsx\")"
   ]
  },
  {
   "cell_type": "code",
   "execution_count": 124,
   "id": "fd7f6c29-25a2-47e4-9951-fc044887b16c",
   "metadata": {},
   "outputs": [],
   "source": [
    "ct = pd.crosstab(df[\"Profession\"], df[\"Colony\"])"
   ]
  },
  {
   "cell_type": "code",
   "execution_count": 127,
   "id": "4fe31adb-eac7-4d3b-80e0-58b433a0c5b4",
   "metadata": {},
   "outputs": [],
   "source": [
    "stat_val, p_val, deg_fr, exp_val = chi2_contingency(ct)"
   ]
  },
  {
   "cell_type": "code",
   "execution_count": 129,
   "id": "a0fc384b-c2ef-402f-8418-0c35f74c76c0",
   "metadata": {},
   "outputs": [
    {
     "data": {
      "text/plain": [
       "(6.832551639536935,\n",
       " 0.3366108439689106,\n",
       " 6,\n",
       " array([[4.42, 4.76, 3.74, 4.08],\n",
       "        [4.42, 4.76, 3.74, 4.08],\n",
       "        [4.16, 4.48, 3.52, 3.84]]))"
      ]
     },
     "execution_count": 129,
     "metadata": {},
     "output_type": "execute_result"
    }
   ],
   "source": [
    "stat_val, p_val, deg_fr, exp_val"
   ]
  },
  {
   "cell_type": "code",
   "execution_count": 130,
   "id": "48a71f85-2abf-454d-9238-04080b8a9340",
   "metadata": {},
   "outputs": [],
   "source": [
    "h0 = \"There is no any dependency in colony and profession column\"\n",
    "h1 = \"There is dependency in colony and profession column\""
   ]
  },
  {
   "cell_type": "code",
   "execution_count": 131,
   "id": "07ef2927-2e22-4382-8338-f50ae5a2669e",
   "metadata": {},
   "outputs": [
    {
     "name": "stdout",
     "output_type": "stream",
     "text": [
      "Accept the null hypothesis There is no any dependency in colony and profession column\n"
     ]
    }
   ],
   "source": [
    "alpha = 0.05\n",
    "if alpha < p_val:\n",
    "    print(\"Accept the null hypothesis\", h0)\n",
    "else:\n",
    "    print(\"Reject the null hypothesis\", ha)"
   ]
  },
  {
   "cell_type": "code",
   "execution_count": null,
   "id": "0aa5909f-8a5c-4b0e-9c0d-3145de99e8f8",
   "metadata": {},
   "outputs": [],
   "source": []
  },
  {
   "cell_type": "code",
   "execution_count": 132,
   "id": "419c7e51-60ac-4c4f-90b6-5c1eeadbbac5",
   "metadata": {},
   "outputs": [],
   "source": [
    "course = np.random.choice([\"Doctor\", \"Engineer\", \"Advocate\"], 50)\n",
    "gender = np.random.choice([\"Male\", \"Female\"], 50)"
   ]
  },
  {
   "cell_type": "code",
   "execution_count": 133,
   "id": "e40b8dae-901e-4a69-9dc3-d5d2d182e958",
   "metadata": {},
   "outputs": [],
   "source": [
    "df2 = pd.DataFrame({\"Course\":course, \"Gender\":gender})"
   ]
  },
  {
   "cell_type": "code",
   "execution_count": 134,
   "id": "27e1ba66-9311-4764-81cb-b0230aaad5d2",
   "metadata": {
    "scrolled": true
   },
   "outputs": [
    {
     "data": {
      "text/html": [
       "<div>\n",
       "<style scoped>\n",
       "    .dataframe tbody tr th:only-of-type {\n",
       "        vertical-align: middle;\n",
       "    }\n",
       "\n",
       "    .dataframe tbody tr th {\n",
       "        vertical-align: top;\n",
       "    }\n",
       "\n",
       "    .dataframe thead th {\n",
       "        text-align: right;\n",
       "    }\n",
       "</style>\n",
       "<table border=\"1\" class=\"dataframe\">\n",
       "  <thead>\n",
       "    <tr style=\"text-align: right;\">\n",
       "      <th></th>\n",
       "      <th>Course</th>\n",
       "      <th>Gender</th>\n",
       "    </tr>\n",
       "  </thead>\n",
       "  <tbody>\n",
       "    <tr>\n",
       "      <th>0</th>\n",
       "      <td>Advocate</td>\n",
       "      <td>Female</td>\n",
       "    </tr>\n",
       "    <tr>\n",
       "      <th>1</th>\n",
       "      <td>Doctor</td>\n",
       "      <td>Male</td>\n",
       "    </tr>\n",
       "    <tr>\n",
       "      <th>2</th>\n",
       "      <td>Engineer</td>\n",
       "      <td>Male</td>\n",
       "    </tr>\n",
       "    <tr>\n",
       "      <th>3</th>\n",
       "      <td>Advocate</td>\n",
       "      <td>Male</td>\n",
       "    </tr>\n",
       "    <tr>\n",
       "      <th>4</th>\n",
       "      <td>Doctor</td>\n",
       "      <td>Male</td>\n",
       "    </tr>\n",
       "    <tr>\n",
       "      <th>5</th>\n",
       "      <td>Advocate</td>\n",
       "      <td>Male</td>\n",
       "    </tr>\n",
       "    <tr>\n",
       "      <th>6</th>\n",
       "      <td>Doctor</td>\n",
       "      <td>Female</td>\n",
       "    </tr>\n",
       "    <tr>\n",
       "      <th>7</th>\n",
       "      <td>Engineer</td>\n",
       "      <td>Female</td>\n",
       "    </tr>\n",
       "    <tr>\n",
       "      <th>8</th>\n",
       "      <td>Doctor</td>\n",
       "      <td>Male</td>\n",
       "    </tr>\n",
       "    <tr>\n",
       "      <th>9</th>\n",
       "      <td>Engineer</td>\n",
       "      <td>Female</td>\n",
       "    </tr>\n",
       "    <tr>\n",
       "      <th>10</th>\n",
       "      <td>Engineer</td>\n",
       "      <td>Male</td>\n",
       "    </tr>\n",
       "    <tr>\n",
       "      <th>11</th>\n",
       "      <td>Advocate</td>\n",
       "      <td>Female</td>\n",
       "    </tr>\n",
       "    <tr>\n",
       "      <th>12</th>\n",
       "      <td>Engineer</td>\n",
       "      <td>Female</td>\n",
       "    </tr>\n",
       "    <tr>\n",
       "      <th>13</th>\n",
       "      <td>Doctor</td>\n",
       "      <td>Female</td>\n",
       "    </tr>\n",
       "    <tr>\n",
       "      <th>14</th>\n",
       "      <td>Engineer</td>\n",
       "      <td>Female</td>\n",
       "    </tr>\n",
       "    <tr>\n",
       "      <th>15</th>\n",
       "      <td>Engineer</td>\n",
       "      <td>Male</td>\n",
       "    </tr>\n",
       "    <tr>\n",
       "      <th>16</th>\n",
       "      <td>Advocate</td>\n",
       "      <td>Female</td>\n",
       "    </tr>\n",
       "    <tr>\n",
       "      <th>17</th>\n",
       "      <td>Advocate</td>\n",
       "      <td>Male</td>\n",
       "    </tr>\n",
       "    <tr>\n",
       "      <th>18</th>\n",
       "      <td>Doctor</td>\n",
       "      <td>Female</td>\n",
       "    </tr>\n",
       "    <tr>\n",
       "      <th>19</th>\n",
       "      <td>Engineer</td>\n",
       "      <td>Male</td>\n",
       "    </tr>\n",
       "    <tr>\n",
       "      <th>20</th>\n",
       "      <td>Doctor</td>\n",
       "      <td>Male</td>\n",
       "    </tr>\n",
       "    <tr>\n",
       "      <th>21</th>\n",
       "      <td>Advocate</td>\n",
       "      <td>Female</td>\n",
       "    </tr>\n",
       "    <tr>\n",
       "      <th>22</th>\n",
       "      <td>Advocate</td>\n",
       "      <td>Male</td>\n",
       "    </tr>\n",
       "    <tr>\n",
       "      <th>23</th>\n",
       "      <td>Advocate</td>\n",
       "      <td>Male</td>\n",
       "    </tr>\n",
       "    <tr>\n",
       "      <th>24</th>\n",
       "      <td>Advocate</td>\n",
       "      <td>Female</td>\n",
       "    </tr>\n",
       "    <tr>\n",
       "      <th>25</th>\n",
       "      <td>Doctor</td>\n",
       "      <td>Female</td>\n",
       "    </tr>\n",
       "    <tr>\n",
       "      <th>26</th>\n",
       "      <td>Advocate</td>\n",
       "      <td>Female</td>\n",
       "    </tr>\n",
       "    <tr>\n",
       "      <th>27</th>\n",
       "      <td>Advocate</td>\n",
       "      <td>Female</td>\n",
       "    </tr>\n",
       "    <tr>\n",
       "      <th>28</th>\n",
       "      <td>Doctor</td>\n",
       "      <td>Male</td>\n",
       "    </tr>\n",
       "    <tr>\n",
       "      <th>29</th>\n",
       "      <td>Advocate</td>\n",
       "      <td>Female</td>\n",
       "    </tr>\n",
       "    <tr>\n",
       "      <th>30</th>\n",
       "      <td>Doctor</td>\n",
       "      <td>Male</td>\n",
       "    </tr>\n",
       "    <tr>\n",
       "      <th>31</th>\n",
       "      <td>Engineer</td>\n",
       "      <td>Female</td>\n",
       "    </tr>\n",
       "    <tr>\n",
       "      <th>32</th>\n",
       "      <td>Engineer</td>\n",
       "      <td>Male</td>\n",
       "    </tr>\n",
       "    <tr>\n",
       "      <th>33</th>\n",
       "      <td>Advocate</td>\n",
       "      <td>Female</td>\n",
       "    </tr>\n",
       "    <tr>\n",
       "      <th>34</th>\n",
       "      <td>Advocate</td>\n",
       "      <td>Female</td>\n",
       "    </tr>\n",
       "    <tr>\n",
       "      <th>35</th>\n",
       "      <td>Doctor</td>\n",
       "      <td>Female</td>\n",
       "    </tr>\n",
       "    <tr>\n",
       "      <th>36</th>\n",
       "      <td>Advocate</td>\n",
       "      <td>Female</td>\n",
       "    </tr>\n",
       "    <tr>\n",
       "      <th>37</th>\n",
       "      <td>Advocate</td>\n",
       "      <td>Male</td>\n",
       "    </tr>\n",
       "    <tr>\n",
       "      <th>38</th>\n",
       "      <td>Engineer</td>\n",
       "      <td>Female</td>\n",
       "    </tr>\n",
       "    <tr>\n",
       "      <th>39</th>\n",
       "      <td>Advocate</td>\n",
       "      <td>Male</td>\n",
       "    </tr>\n",
       "    <tr>\n",
       "      <th>40</th>\n",
       "      <td>Doctor</td>\n",
       "      <td>Male</td>\n",
       "    </tr>\n",
       "    <tr>\n",
       "      <th>41</th>\n",
       "      <td>Doctor</td>\n",
       "      <td>Male</td>\n",
       "    </tr>\n",
       "    <tr>\n",
       "      <th>42</th>\n",
       "      <td>Doctor</td>\n",
       "      <td>Male</td>\n",
       "    </tr>\n",
       "    <tr>\n",
       "      <th>43</th>\n",
       "      <td>Engineer</td>\n",
       "      <td>Female</td>\n",
       "    </tr>\n",
       "    <tr>\n",
       "      <th>44</th>\n",
       "      <td>Advocate</td>\n",
       "      <td>Male</td>\n",
       "    </tr>\n",
       "    <tr>\n",
       "      <th>45</th>\n",
       "      <td>Doctor</td>\n",
       "      <td>Male</td>\n",
       "    </tr>\n",
       "    <tr>\n",
       "      <th>46</th>\n",
       "      <td>Doctor</td>\n",
       "      <td>Male</td>\n",
       "    </tr>\n",
       "    <tr>\n",
       "      <th>47</th>\n",
       "      <td>Advocate</td>\n",
       "      <td>Female</td>\n",
       "    </tr>\n",
       "    <tr>\n",
       "      <th>48</th>\n",
       "      <td>Doctor</td>\n",
       "      <td>Male</td>\n",
       "    </tr>\n",
       "    <tr>\n",
       "      <th>49</th>\n",
       "      <td>Engineer</td>\n",
       "      <td>Male</td>\n",
       "    </tr>\n",
       "  </tbody>\n",
       "</table>\n",
       "</div>"
      ],
      "text/plain": [
       "      Course  Gender\n",
       "0   Advocate  Female\n",
       "1     Doctor    Male\n",
       "2   Engineer    Male\n",
       "3   Advocate    Male\n",
       "4     Doctor    Male\n",
       "5   Advocate    Male\n",
       "6     Doctor  Female\n",
       "7   Engineer  Female\n",
       "8     Doctor    Male\n",
       "9   Engineer  Female\n",
       "10  Engineer    Male\n",
       "11  Advocate  Female\n",
       "12  Engineer  Female\n",
       "13    Doctor  Female\n",
       "14  Engineer  Female\n",
       "15  Engineer    Male\n",
       "16  Advocate  Female\n",
       "17  Advocate    Male\n",
       "18    Doctor  Female\n",
       "19  Engineer    Male\n",
       "20    Doctor    Male\n",
       "21  Advocate  Female\n",
       "22  Advocate    Male\n",
       "23  Advocate    Male\n",
       "24  Advocate  Female\n",
       "25    Doctor  Female\n",
       "26  Advocate  Female\n",
       "27  Advocate  Female\n",
       "28    Doctor    Male\n",
       "29  Advocate  Female\n",
       "30    Doctor    Male\n",
       "31  Engineer  Female\n",
       "32  Engineer    Male\n",
       "33  Advocate  Female\n",
       "34  Advocate  Female\n",
       "35    Doctor  Female\n",
       "36  Advocate  Female\n",
       "37  Advocate    Male\n",
       "38  Engineer  Female\n",
       "39  Advocate    Male\n",
       "40    Doctor    Male\n",
       "41    Doctor    Male\n",
       "42    Doctor    Male\n",
       "43  Engineer  Female\n",
       "44  Advocate    Male\n",
       "45    Doctor    Male\n",
       "46    Doctor    Male\n",
       "47  Advocate  Female\n",
       "48    Doctor    Male\n",
       "49  Engineer    Male"
      ]
     },
     "execution_count": 134,
     "metadata": {},
     "output_type": "execute_result"
    }
   ],
   "source": [
    "df2"
   ]
  },
  {
   "cell_type": "code",
   "execution_count": 135,
   "id": "ca024926-16a2-4188-bddf-004a5f3d4f6a",
   "metadata": {},
   "outputs": [],
   "source": [
    "ct2 = pd.crosstab(df2[\"Course\"], df2[\"Gender\"])"
   ]
  },
  {
   "cell_type": "code",
   "execution_count": 136,
   "id": "4e04e259-e4c6-473a-b4a9-9febc194d781",
   "metadata": {},
   "outputs": [
    {
     "data": {
      "text/html": [
       "<div>\n",
       "<style scoped>\n",
       "    .dataframe tbody tr th:only-of-type {\n",
       "        vertical-align: middle;\n",
       "    }\n",
       "\n",
       "    .dataframe tbody tr th {\n",
       "        vertical-align: top;\n",
       "    }\n",
       "\n",
       "    .dataframe thead th {\n",
       "        text-align: right;\n",
       "    }\n",
       "</style>\n",
       "<table border=\"1\" class=\"dataframe\">\n",
       "  <thead>\n",
       "    <tr style=\"text-align: right;\">\n",
       "      <th>Gender</th>\n",
       "      <th>Female</th>\n",
       "      <th>Male</th>\n",
       "    </tr>\n",
       "    <tr>\n",
       "      <th>Course</th>\n",
       "      <th></th>\n",
       "      <th></th>\n",
       "    </tr>\n",
       "  </thead>\n",
       "  <tbody>\n",
       "    <tr>\n",
       "      <th>Advocate</th>\n",
       "      <td>12</td>\n",
       "      <td>8</td>\n",
       "    </tr>\n",
       "    <tr>\n",
       "      <th>Doctor</th>\n",
       "      <td>5</td>\n",
       "      <td>12</td>\n",
       "    </tr>\n",
       "    <tr>\n",
       "      <th>Engineer</th>\n",
       "      <td>7</td>\n",
       "      <td>6</td>\n",
       "    </tr>\n",
       "  </tbody>\n",
       "</table>\n",
       "</div>"
      ],
      "text/plain": [
       "Gender    Female  Male\n",
       "Course                \n",
       "Advocate      12     8\n",
       "Doctor         5    12\n",
       "Engineer       7     6"
      ]
     },
     "execution_count": 136,
     "metadata": {},
     "output_type": "execute_result"
    }
   ],
   "source": [
    "ct2"
   ]
  },
  {
   "cell_type": "code",
   "execution_count": 137,
   "id": "7cd0d5a3-97d1-4cb3-830c-54b882c792d5",
   "metadata": {},
   "outputs": [],
   "source": [
    "stat_val, p_val, deg_fr, exp_val = chi2_contingency(ct2)"
   ]
  },
  {
   "cell_type": "code",
   "execution_count": 138,
   "id": "55087a9d-2dde-4708-8c94-9b8233b434e2",
   "metadata": {},
   "outputs": [
    {
     "data": {
      "text/plain": [
       "(3.685172293769579,\n",
       " 0.15840723155544506,\n",
       " 2,\n",
       " array([[ 9.6 , 10.4 ],\n",
       "        [ 8.16,  8.84],\n",
       "        [ 6.24,  6.76]]))"
      ]
     },
     "execution_count": 138,
     "metadata": {},
     "output_type": "execute_result"
    }
   ],
   "source": [
    "stat_val, p_val, deg_fr, exp_val"
   ]
  },
  {
   "cell_type": "code",
   "execution_count": 139,
   "id": "734a13e7-b3ea-4115-85a3-200dda6aacde",
   "metadata": {},
   "outputs": [],
   "source": [
    "h0 = \"There is no any dependency in Gender and Course\"\n",
    "h1 = \"There is dependency in Gender and Course\""
   ]
  },
  {
   "cell_type": "code",
   "execution_count": 140,
   "id": "32c9bbce-aaed-4804-8633-a39c4aa094f3",
   "metadata": {},
   "outputs": [
    {
     "name": "stdout",
     "output_type": "stream",
     "text": [
      "Accept the null hypothesis There is no any dependency in Gender and Course\n"
     ]
    }
   ],
   "source": [
    "alpha = 0.05\n",
    "if alpha < p_val:\n",
    "    print(\"Accept the null hypothesis\", h0)\n",
    "else:\n",
    "    print(\"Reject the null hypothesis\", ha)"
   ]
  },
  {
   "cell_type": "code",
   "execution_count": 141,
   "id": "2b405ec4-b1cd-4542-92fa-eb337843682e",
   "metadata": {},
   "outputs": [
    {
     "data": {
      "text/plain": [
       "array([[ 2,  1, 23],\n",
       "       [20,  0,  4],\n",
       "       [ 1, 24,  2]])"
      ]
     },
     "execution_count": 141,
     "metadata": {},
     "output_type": "execute_result"
    }
   ],
   "source": [
    "arr = np.array([[2, 1, 23], [20, 0, 4], [1, 24, 2]])\n",
    "arr"
   ]
  },
  {
   "cell_type": "code",
   "execution_count": 142,
   "id": "dd1c01dd-4e55-4b4d-8733-9014db085823",
   "metadata": {},
   "outputs": [],
   "source": [
    "stat_val, p_val, deg_fr, exp_val = chi2_contingency(arr)"
   ]
  },
  {
   "cell_type": "code",
   "execution_count": 143,
   "id": "5b548be4-c9d8-4e79-bc60-a8e11c872899",
   "metadata": {},
   "outputs": [
    {
     "data": {
      "text/plain": [
       "(101.4472936181482,\n",
       " 4.8382602606653215e-21,\n",
       " 4,\n",
       " array([[ 7.76623377,  8.44155844,  9.79220779],\n",
       "        [ 7.16883117,  7.79220779,  9.03896104],\n",
       "        [ 8.06493506,  8.76623377, 10.16883117]]))"
      ]
     },
     "execution_count": 143,
     "metadata": {},
     "output_type": "execute_result"
    }
   ],
   "source": [
    "stat_val, p_val, deg_fr, exp_val"
   ]
  },
  {
   "cell_type": "code",
   "execution_count": 146,
   "id": "ae03d1af-b74d-47a9-86b6-f3232d389af5",
   "metadata": {},
   "outputs": [],
   "source": [
    "h0 = \"There is no any dependency in the columns\"\n",
    "ha = \"There is dependency in the columns\""
   ]
  },
  {
   "cell_type": "code",
   "execution_count": 147,
   "id": "22036edf-ad4f-45e6-8e06-8ef1b30ac94d",
   "metadata": {},
   "outputs": [
    {
     "name": "stdout",
     "output_type": "stream",
     "text": [
      "Reject the null hypothesis There is dependency in the columns\n"
     ]
    }
   ],
   "source": [
    "alpha = 0.05\n",
    "if alpha < p_val:\n",
    "    print(\"Accept the null hypothesis\", h0)\n",
    "else:\n",
    "    print(\"Reject the null hypothesis\", ha)"
   ]
  },
  {
   "cell_type": "code",
   "execution_count": null,
   "id": "2a2c7296-0660-4f7b-ba7e-ddc0187450dd",
   "metadata": {},
   "outputs": [],
   "source": []
  }
 ],
 "metadata": {
  "kernelspec": {
   "display_name": "Python 3 (ipykernel)",
   "language": "python",
   "name": "python3"
  },
  "language_info": {
   "codemirror_mode": {
    "name": "ipython",
    "version": 3
   },
   "file_extension": ".py",
   "mimetype": "text/x-python",
   "name": "python",
   "nbconvert_exporter": "python",
   "pygments_lexer": "ipython3",
   "version": "3.11.7"
  },
  "widgets": {
   "application/vnd.jupyter.widget-state+json": {
    "state": {},
    "version_major": 2,
    "version_minor": 0
   }
  }
 },
 "nbformat": 4,
 "nbformat_minor": 5
}
