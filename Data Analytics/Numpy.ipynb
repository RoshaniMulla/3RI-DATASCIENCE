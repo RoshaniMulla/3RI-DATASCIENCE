{
 "cells": [
  {
   "cell_type": "markdown",
   "id": "7d776de1-16b1-41e4-bc0d-a15377b162cc",
   "metadata": {},
   "source": [
    "# NumPy --> Numerical Python \n",
    "* Mainly works with array\n",
    "* Creation, manipulation, reshaping and resizing the array are the most common usage of the NumPy library\n",
    "* Integer and floats are the main data types - string datatype are not primary datatype in numpy\n",
    "* Default datatype for numpy is always float\n",
    "* NumPy array is also called as ndarray ---> N dimensional array\n",
    "* Numpy array is always homogenous --> It will store only one type of data inside it."
   ]
  },
  {
   "cell_type": "markdown",
   "id": "5ae5f40a-a827-46ac-9217-051ae5f3414a",
   "metadata": {},
   "source": [
    "## Array Creation"
   ]
  },
  {
   "cell_type": "code",
   "execution_count": 1,
   "id": "daf0f7ae-6a20-4603-87b3-c7a0c8d7c7b4",
   "metadata": {},
   "outputs": [],
   "source": [
    "import numpy as np"
   ]
  },
  {
   "cell_type": "code",
   "execution_count": 2,
   "id": "77d950c9-ae76-4a55-b02c-27334f6cb438",
   "metadata": {},
   "outputs": [],
   "source": [
    "ls = [5, 9, 2, 1, 7, 8]"
   ]
  },
  {
   "cell_type": "code",
   "execution_count": 3,
   "id": "0c5dd7a3-c641-4643-a75d-636e60c6e395",
   "metadata": {},
   "outputs": [
    {
     "data": {
      "text/plain": [
       "array([5, 9, 2, 1, 7, 8])"
      ]
     },
     "execution_count": 3,
     "metadata": {},
     "output_type": "execute_result"
    }
   ],
   "source": [
    "arr1 = np.array(ls)\n",
    "arr1"
   ]
  },
  {
   "cell_type": "code",
   "execution_count": 4,
   "id": "950046d5-263a-42e0-9000-ea053543f55f",
   "metadata": {},
   "outputs": [
    {
     "data": {
      "text/plain": [
       "array([7, 2, 4, 5, 1, 3])"
      ]
     },
     "execution_count": 4,
     "metadata": {},
     "output_type": "execute_result"
    }
   ],
   "source": [
    "arr2 = np.array([7, 2, 4, 5, 1, 3])\n",
    "arr2"
   ]
  },
  {
   "cell_type": "code",
   "execution_count": 5,
   "id": "750488d1-a864-45f1-9777-039b03a74cb5",
   "metadata": {},
   "outputs": [
    {
     "data": {
      "text/plain": [
       "array(['Ram', 'Sham', 'Sita', 'Gita', 'Ramesh', 'Suresh'], dtype='<U6')"
      ]
     },
     "execution_count": 5,
     "metadata": {},
     "output_type": "execute_result"
    }
   ],
   "source": [
    "arr3 = np.array((\"Ram\", \"Sham\", \"Sita\", \"Gita\", \"Ramesh\", \"Suresh\"))\n",
    "arr3"
   ]
  },
  {
   "cell_type": "code",
   "execution_count": 6,
   "id": "389b116a-bab3-431c-997f-3cb84659bfe6",
   "metadata": {},
   "outputs": [
    {
     "data": {
      "text/plain": [
       "array([0, 1, 2, 3, 4, 5, 6, 7, 8, 9])"
      ]
     },
     "execution_count": 6,
     "metadata": {},
     "output_type": "execute_result"
    }
   ],
   "source": [
    "arr4 = np.arange(10)\n",
    "arr4"
   ]
  },
  {
   "cell_type": "code",
   "execution_count": 7,
   "id": "1b98e89c-f7b3-4d6d-bfd9-d1de7eb7481f",
   "metadata": {},
   "outputs": [
    {
     "data": {
      "text/plain": [
       "array([ 5,  8, 11, 14, 17])"
      ]
     },
     "execution_count": 7,
     "metadata": {},
     "output_type": "execute_result"
    }
   ],
   "source": [
    "arr5 = np.arange(5, 19, 3)\n",
    "arr5"
   ]
  },
  {
   "cell_type": "code",
   "execution_count": 8,
   "id": "6c9ce0ad-2c90-4768-b553-b773e6411c8d",
   "metadata": {},
   "outputs": [
    {
     "data": {
      "text/plain": [
       "array([ 1.    ,  1.5625,  2.125 ,  2.6875,  3.25  ,  3.8125,  4.375 ,\n",
       "        4.9375,  5.5   ,  6.0625,  6.625 ,  7.1875,  7.75  ,  8.3125,\n",
       "        8.875 ,  9.4375, 10.    ])"
      ]
     },
     "execution_count": 8,
     "metadata": {},
     "output_type": "execute_result"
    }
   ],
   "source": [
    "arr6 = np.linspace(1, 10, 17)\n",
    "arr6"
   ]
  },
  {
   "cell_type": "code",
   "execution_count": 9,
   "id": "b333eadc-b276-4276-90b1-1a8c0c053eb3",
   "metadata": {},
   "outputs": [
    {
     "data": {
      "text/plain": [
       "array([-4.   , -3.125, -2.25 , -1.375, -0.5  ,  0.375,  1.25 ,  2.125,\n",
       "        3.   ])"
      ]
     },
     "execution_count": 9,
     "metadata": {},
     "output_type": "execute_result"
    }
   ],
   "source": [
    "arr7 = np.linspace(-4, 3, 9)\n",
    "arr7"
   ]
  },
  {
   "cell_type": "markdown",
   "id": "1ed46add-3d35-46ae-9292-2c8a35e073b0",
   "metadata": {},
   "source": [
    "## Array Information"
   ]
  },
  {
   "cell_type": "code",
   "execution_count": 10,
   "id": "3b6a0fd1-f943-463a-a048-2debfa89d259",
   "metadata": {},
   "outputs": [
    {
     "data": {
      "text/plain": [
       "array([-4.   , -3.125, -2.25 , -1.375, -0.5  ,  0.375,  1.25 ,  2.125,\n",
       "        3.   ])"
      ]
     },
     "execution_count": 10,
     "metadata": {},
     "output_type": "execute_result"
    }
   ],
   "source": [
    "arr7"
   ]
  },
  {
   "cell_type": "code",
   "execution_count": 11,
   "id": "6d217e44-5d08-471c-889d-c83e99ba3489",
   "metadata": {},
   "outputs": [
    {
     "data": {
      "text/plain": [
       "dtype('float64')"
      ]
     },
     "execution_count": 11,
     "metadata": {},
     "output_type": "execute_result"
    }
   ],
   "source": [
    "arr7.dtype"
   ]
  },
  {
   "cell_type": "code",
   "execution_count": 12,
   "id": "86cb1040-477f-4d69-948b-f2ddb12a56f4",
   "metadata": {},
   "outputs": [
    {
     "data": {
      "text/plain": [
       "dtype('int32')"
      ]
     },
     "execution_count": 12,
     "metadata": {},
     "output_type": "execute_result"
    }
   ],
   "source": [
    "arr2.dtype"
   ]
  },
  {
   "cell_type": "code",
   "execution_count": 13,
   "id": "f0b14a10-b762-46ac-b0b8-cafd5c95f3b7",
   "metadata": {},
   "outputs": [
    {
     "data": {
      "text/plain": [
       "dtype('<U6')"
      ]
     },
     "execution_count": 13,
     "metadata": {},
     "output_type": "execute_result"
    }
   ],
   "source": [
    "arr3.dtype"
   ]
  },
  {
   "cell_type": "code",
   "execution_count": 14,
   "id": "dad567a7-13f6-48a5-a314-88b706b38a92",
   "metadata": {},
   "outputs": [
    {
     "data": {
      "text/plain": [
       "numpy.ndarray"
      ]
     },
     "execution_count": 14,
     "metadata": {},
     "output_type": "execute_result"
    }
   ],
   "source": [
    "type(arr7)"
   ]
  },
  {
   "cell_type": "code",
   "execution_count": 15,
   "id": "d138de5d-b29d-47da-983a-23f9d2a8e0d6",
   "metadata": {},
   "outputs": [
    {
     "data": {
      "text/plain": [
       "(6,)"
      ]
     },
     "execution_count": 15,
     "metadata": {},
     "output_type": "execute_result"
    }
   ],
   "source": [
    "arr2.shape"
   ]
  },
  {
   "cell_type": "code",
   "execution_count": 16,
   "id": "7c246e5a-cdd1-4edc-bcf8-57546e567838",
   "metadata": {},
   "outputs": [
    {
     "data": {
      "text/plain": [
       "(17,)"
      ]
     },
     "execution_count": 16,
     "metadata": {},
     "output_type": "execute_result"
    }
   ],
   "source": [
    "arr6.shape"
   ]
  },
  {
   "cell_type": "code",
   "execution_count": 17,
   "id": "fb107b77-4bb8-4593-b153-2650812cf037",
   "metadata": {},
   "outputs": [
    {
     "data": {
      "text/plain": [
       "17"
      ]
     },
     "execution_count": 17,
     "metadata": {},
     "output_type": "execute_result"
    }
   ],
   "source": [
    "arr6.size"
   ]
  },
  {
   "cell_type": "markdown",
   "id": "348240b8-ea21-4352-ad39-ac022944b7ed",
   "metadata": {},
   "source": [
    "## Random Function in Python"
   ]
  },
  {
   "cell_type": "code",
   "execution_count": 18,
   "id": "9d86d03d-dc1f-42cd-a56d-28b72d3b699c",
   "metadata": {},
   "outputs": [
    {
     "data": {
      "text/plain": [
       "0.0731272673702753"
      ]
     },
     "execution_count": 18,
     "metadata": {},
     "output_type": "execute_result"
    }
   ],
   "source": [
    "arr8 = np.random.rand()   # Will return only one number between zero to one\n",
    "arr8"
   ]
  },
  {
   "cell_type": "code",
   "execution_count": 19,
   "id": "160cb95f-2c5c-4597-ab05-5fd94dd04a6c",
   "metadata": {},
   "outputs": [
    {
     "data": {
      "text/plain": [
       "array([0.4921015 , 0.08832213, 0.8249569 , 0.88498387, 0.97924749,\n",
       "       0.02924217, 0.5194413 , 0.75329927, 0.36162796, 0.41998819,\n",
       "       0.70398953, 0.64399865, 0.0940672 , 0.93011802, 0.00945355])"
      ]
     },
     "execution_count": 19,
     "metadata": {},
     "output_type": "execute_result"
    }
   ],
   "source": [
    "arr9 = np.random.rand(15)\n",
    "arr9"
   ]
  },
  {
   "cell_type": "code",
   "execution_count": 20,
   "id": "6f44a7b4-9f62-48d0-9db6-5f8538cd5d93",
   "metadata": {},
   "outputs": [
    {
     "data": {
      "text/plain": [
       "0.2334979291177807"
      ]
     },
     "execution_count": 20,
     "metadata": {},
     "output_type": "execute_result"
    }
   ],
   "source": [
    "arr10 = np.random.randn()   # Will return the normal number where the mean of data will be 0 and std will be 1\n",
    "arr10"
   ]
  },
  {
   "cell_type": "code",
   "execution_count": 21,
   "id": "6754089e-cc16-4c65-9579-15e5435dea32",
   "metadata": {},
   "outputs": [
    {
     "data": {
      "text/plain": [
       "array([-1.18139167, -1.17930635,  0.10545649,  0.76023611, -0.66730813,\n",
       "       -0.66442232,  0.90423556,  0.3514723 , -0.82842742, -0.39197646,\n",
       "       -1.03427129,  0.65304257, -0.50760361, -1.16071645,  0.89257108])"
      ]
     },
     "execution_count": 21,
     "metadata": {},
     "output_type": "execute_result"
    }
   ],
   "source": [
    "arr10 = np.random.randn(15)\n",
    "arr10"
   ]
  },
  {
   "cell_type": "code",
   "execution_count": 22,
   "id": "09f02b81-a556-47e2-aae5-b4cab317552b",
   "metadata": {},
   "outputs": [
    {
     "data": {
      "text/plain": [
       "26"
      ]
     },
     "execution_count": 22,
     "metadata": {},
     "output_type": "execute_result"
    }
   ],
   "source": [
    "arr11 = np.random.randint(30)\n",
    "arr11"
   ]
  },
  {
   "cell_type": "code",
   "execution_count": 23,
   "id": "72ea8bc8-8b6b-414f-8724-d40208371ad8",
   "metadata": {},
   "outputs": [
    {
     "data": {
      "text/plain": [
       "4"
      ]
     },
     "execution_count": 23,
     "metadata": {},
     "output_type": "execute_result"
    }
   ],
   "source": [
    "arr12 = np.random.randint(4, 9)\n",
    "arr12"
   ]
  },
  {
   "cell_type": "code",
   "execution_count": 24,
   "id": "c6da1279-d61b-44ac-a130-6bbfa4f0aa03",
   "metadata": {},
   "outputs": [
    {
     "data": {
      "text/plain": [
       "array([58, 24, 28, 45, 49, 24, 58, 22, 49, 35])"
      ]
     },
     "execution_count": 24,
     "metadata": {},
     "output_type": "execute_result"
    }
   ],
   "source": [
    "arr13 = np.random.randint(12, 60, 10)\n",
    "arr13"
   ]
  },
  {
   "cell_type": "code",
   "execution_count": 25,
   "id": "be8775d0-59f9-4163-98d5-c6091f27f9d2",
   "metadata": {
    "scrolled": true
   },
   "outputs": [
    {
     "data": {
      "text/plain": [
       "array([176.98220143, 161.73645432, 151.90423444, 172.97158706,\n",
       "       175.92914297, 169.9820579 , 169.55346567, 175.21255774,\n",
       "       175.81189353, 187.84940571, 159.83162432, 167.95016934,\n",
       "       162.18339231, 158.16381697, 180.78289559, 151.3230258 ,\n",
       "       162.92919763, 173.41532929, 159.55752971, 159.69157475,\n",
       "       153.25605809, 168.25367764, 148.84657034, 169.11328256,\n",
       "       160.89451004, 171.78942407, 161.53091493, 153.9705481 ,\n",
       "       173.73065673, 149.66071874, 173.92342728, 177.41091055,\n",
       "       170.99208042, 171.84227394, 165.17951582, 167.42067522,\n",
       "       183.33214007, 165.37283727, 167.89951158, 153.95227852,\n",
       "       168.75185707, 157.23762843, 161.87553114, 171.73858023,\n",
       "       164.35836078, 164.95329046, 183.81945458, 173.06874876,\n",
       "       174.0589369 , 168.28989453, 164.11700216, 171.01647978,\n",
       "       167.05760105, 173.05544115, 165.43952587, 162.27714715,\n",
       "       185.84731381, 171.71314908, 157.24538638, 153.96754538,\n",
       "       169.6331103 , 170.52307549, 163.86139416, 172.47818733,\n",
       "       172.54659111, 162.64668857, 152.59549175, 161.35600313,\n",
       "       167.80227484, 168.50132649, 168.7424544 , 162.04226964,\n",
       "       168.08868786, 164.83791992, 176.94188566, 164.40934813,\n",
       "       159.78717626, 146.16844727, 180.27808807, 167.05449757,\n",
       "       162.45419746, 174.28170124, 156.76746871, 168.3320542 ,\n",
       "       176.91261962, 165.26760321, 174.44444134, 168.00352052,\n",
       "       169.47953702, 178.11922777, 173.98285298, 164.82020323,\n",
       "       175.29232592, 168.87751363, 160.81691246, 163.48701833,\n",
       "       147.74770324, 156.41319332, 165.09251895, 145.32515071])"
      ]
     },
     "execution_count": 25,
     "metadata": {},
     "output_type": "execute_result"
    }
   ],
   "source": [
    "avg_height = 165\n",
    "std_height = 9\n",
    "\n",
    "height_100_people = np.random.normal(avg_height, std_height, 100)\n",
    "height_100_people"
   ]
  },
  {
   "cell_type": "code",
   "execution_count": 26,
   "id": "6fb3a187-cbf4-4e8c-ad00-8819aebb7740",
   "metadata": {},
   "outputs": [
    {
     "data": {
      "text/plain": [
       "array([2, 3, 2, 3, 1, 6, 0, 0, 0, 2, 2, 0, 2, 1, 3, 2, 1, 1, 1, 0])"
      ]
     },
     "execution_count": 26,
     "metadata": {},
     "output_type": "execute_result"
    }
   ],
   "source": [
    "# Finding how many time 5 will occure on top of the dice if dice rolls 10 time.\n",
    "\n",
    "five_on_top = np.random.binomial(10, (1/6), 20)\n",
    "five_on_top"
   ]
  },
  {
   "cell_type": "code",
   "execution_count": 27,
   "id": "a52d9182-fca1-49e0-bd22-195ce0c84899",
   "metadata": {},
   "outputs": [
    {
     "data": {
      "text/plain": [
       "array([0, 1, 1, 0, 0])"
      ]
     },
     "execution_count": 27,
     "metadata": {},
     "output_type": "execute_result"
    }
   ],
   "source": [
    "# Findig how many time head(1) will occur while tossing a coin in 5 iterations\n",
    "\n",
    "head_on_top = np.random.binomial(1, (1/2), 5)\n",
    "head_on_top"
   ]
  },
  {
   "cell_type": "code",
   "execution_count": 28,
   "id": "a5d43887-e3f2-410c-9bc3-af77d50a2904",
   "metadata": {},
   "outputs": [
    {
     "data": {
      "text/plain": [
       "array(['Ram', 'Sham', 'Sita', 'Gita', 'Ramesh', 'Suresh'], dtype='<U6')"
      ]
     },
     "execution_count": 28,
     "metadata": {},
     "output_type": "execute_result"
    }
   ],
   "source": [
    "arr3"
   ]
  },
  {
   "cell_type": "code",
   "execution_count": 29,
   "id": "7a2af5b9-078d-4996-a009-150cbf683cb5",
   "metadata": {},
   "outputs": [
    {
     "data": {
      "text/plain": [
       "array(['Sham', 'Sham', 'Gita'], dtype='<U6')"
      ]
     },
     "execution_count": 29,
     "metadata": {},
     "output_type": "execute_result"
    }
   ],
   "source": [
    "random_name = np.random.choice(arr3, 3)\n",
    "random_name"
   ]
  },
  {
   "cell_type": "markdown",
   "id": "3c60f4f4-64fc-4ce2-a997-5529e8a3eb98",
   "metadata": {},
   "source": [
    "## Array Resize and Reshape"
   ]
  },
  {
   "cell_type": "code",
   "execution_count": 30,
   "id": "b10c5545-ee58-4a34-ba64-de8355eb0d91",
   "metadata": {},
   "outputs": [
    {
     "data": {
      "text/plain": [
       "array([ 8, 10,  7,  9, 13, 14,  4,  8,  9,  6, 13,  7, 14,  5,  4, 11,  8,\n",
       "        9, 12,  9, 12,  5, 11, 14])"
      ]
     },
     "execution_count": 30,
     "metadata": {},
     "output_type": "execute_result"
    }
   ],
   "source": [
    "arr14 = np.random.randint(4, 15, 24)\n",
    "arr14"
   ]
  },
  {
   "cell_type": "code",
   "execution_count": 31,
   "id": "c2751bec-63a8-4478-b4e8-bc049fcedfaf",
   "metadata": {},
   "outputs": [
    {
     "data": {
      "text/plain": [
       "(24,)"
      ]
     },
     "execution_count": 31,
     "metadata": {},
     "output_type": "execute_result"
    }
   ],
   "source": [
    "arr14.shape"
   ]
  },
  {
   "cell_type": "code",
   "execution_count": 32,
   "id": "d3126552-16b7-40dc-af04-6ad417386f36",
   "metadata": {},
   "outputs": [
    {
     "data": {
      "text/plain": [
       "array([[ 8, 10,  7,  9],\n",
       "       [13, 14,  4,  8],\n",
       "       [ 9,  6, 13,  7],\n",
       "       [14,  5,  4, 11],\n",
       "       [ 8,  9, 12,  9],\n",
       "       [12,  5, 11, 14]])"
      ]
     },
     "execution_count": 32,
     "metadata": {},
     "output_type": "execute_result"
    }
   ],
   "source": [
    "arr14.reshape(6, 4)"
   ]
  },
  {
   "cell_type": "code",
   "execution_count": 33,
   "id": "9813633e-4794-46e4-a519-929a3ab49b45",
   "metadata": {},
   "outputs": [
    {
     "data": {
      "text/plain": [
       "array([[ 8, 10,  7,  9, 13, 14,  4,  8],\n",
       "       [ 9,  6, 13,  7, 14,  5,  4, 11],\n",
       "       [ 8,  9, 12,  9, 12,  5, 11, 14]])"
      ]
     },
     "execution_count": 33,
     "metadata": {},
     "output_type": "execute_result"
    }
   ],
   "source": [
    "arr14.reshape(3, 8)"
   ]
  },
  {
   "cell_type": "code",
   "execution_count": 34,
   "id": "e971bf9b-7730-4034-8658-59ce56229112",
   "metadata": {
    "scrolled": true
   },
   "outputs": [
    {
     "data": {
      "text/plain": [
       "array([[ 8, 10],\n",
       "       [ 7,  9],\n",
       "       [13, 14],\n",
       "       [ 4,  8],\n",
       "       [ 9,  6],\n",
       "       [13,  7],\n",
       "       [14,  5],\n",
       "       [ 4, 11],\n",
       "       [ 8,  9],\n",
       "       [12,  9],\n",
       "       [12,  5],\n",
       "       [11, 14]])"
      ]
     },
     "execution_count": 34,
     "metadata": {},
     "output_type": "execute_result"
    }
   ],
   "source": [
    "arr14.reshape(12, 2)"
   ]
  },
  {
   "cell_type": "code",
   "execution_count": 35,
   "id": "7b932bc0-98e6-4f95-872a-b515eb8adb9a",
   "metadata": {
    "scrolled": true
   },
   "outputs": [
    {
     "data": {
      "text/plain": [
       "array([[[ 8, 10],\n",
       "        [ 7,  9],\n",
       "        [13, 14]],\n",
       "\n",
       "       [[ 4,  8],\n",
       "        [ 9,  6],\n",
       "        [13,  7]],\n",
       "\n",
       "       [[14,  5],\n",
       "        [ 4, 11],\n",
       "        [ 8,  9]],\n",
       "\n",
       "       [[12,  9],\n",
       "        [12,  5],\n",
       "        [11, 14]]])"
      ]
     },
     "execution_count": 35,
     "metadata": {},
     "output_type": "execute_result"
    }
   ],
   "source": [
    "arr14.reshape(4, 3, 2)"
   ]
  },
  {
   "cell_type": "code",
   "execution_count": 36,
   "id": "ca96245f-d938-4e97-94ae-124d00ca7394",
   "metadata": {
    "scrolled": true
   },
   "outputs": [
    {
     "data": {
      "text/plain": [
       "array([[[[ 8, 10],\n",
       "         [ 7,  9],\n",
       "         [13, 14]],\n",
       "\n",
       "        [[ 4,  8],\n",
       "         [ 9,  6],\n",
       "         [13,  7]]],\n",
       "\n",
       "\n",
       "       [[[14,  5],\n",
       "         [ 4, 11],\n",
       "         [ 8,  9]],\n",
       "\n",
       "        [[12,  9],\n",
       "         [12,  5],\n",
       "         [11, 14]]]])"
      ]
     },
     "execution_count": 36,
     "metadata": {},
     "output_type": "execute_result"
    }
   ],
   "source": [
    "arr14.reshape(2, 2, 3, 2)"
   ]
  },
  {
   "cell_type": "code",
   "execution_count": 37,
   "id": "19800caa-d369-4885-92fa-e04c84e5796c",
   "metadata": {},
   "outputs": [
    {
     "data": {
      "text/plain": [
       "array([ 8, 10,  7,  9, 13, 14,  4,  8,  9,  6, 13,  7, 14,  5,  4, 11,  8,\n",
       "        9, 12,  9, 12,  5, 11, 14])"
      ]
     },
     "execution_count": 37,
     "metadata": {},
     "output_type": "execute_result"
    }
   ],
   "source": [
    "arr14"
   ]
  },
  {
   "cell_type": "code",
   "execution_count": 38,
   "id": "72bd4271-b2c3-456a-9fb1-fad636147ab2",
   "metadata": {},
   "outputs": [],
   "source": [
    "arr14.resize(4, 6)"
   ]
  },
  {
   "cell_type": "code",
   "execution_count": 39,
   "id": "42f6ac13-ce50-4bb5-92ce-cefd0ab560f2",
   "metadata": {},
   "outputs": [
    {
     "data": {
      "text/plain": [
       "array([[ 8, 10,  7,  9, 13, 14],\n",
       "       [ 4,  8,  9,  6, 13,  7],\n",
       "       [14,  5,  4, 11,  8,  9],\n",
       "       [12,  9, 12,  5, 11, 14]])"
      ]
     },
     "execution_count": 39,
     "metadata": {},
     "output_type": "execute_result"
    }
   ],
   "source": [
    "arr14"
   ]
  },
  {
   "cell_type": "code",
   "execution_count": 40,
   "id": "50abd5bd-8e2d-4b0b-babd-06b0b8b0c082",
   "metadata": {},
   "outputs": [],
   "source": [
    "arr14.resize(3, 8)"
   ]
  },
  {
   "cell_type": "code",
   "execution_count": 41,
   "id": "afb8adda-96bf-42ad-8097-aea92f31b834",
   "metadata": {},
   "outputs": [
    {
     "data": {
      "text/plain": [
       "array([[ 8, 10,  7,  9, 13, 14,  4,  8],\n",
       "       [ 9,  6, 13,  7, 14,  5,  4, 11],\n",
       "       [ 8,  9, 12,  9, 12,  5, 11, 14]])"
      ]
     },
     "execution_count": 41,
     "metadata": {},
     "output_type": "execute_result"
    }
   ],
   "source": [
    "arr14"
   ]
  },
  {
   "cell_type": "code",
   "execution_count": 42,
   "id": "b40354a4-116d-4645-8d97-e2205558f65a",
   "metadata": {},
   "outputs": [
    {
     "data": {
      "text/plain": [
       "(3, 8)"
      ]
     },
     "execution_count": 42,
     "metadata": {},
     "output_type": "execute_result"
    }
   ],
   "source": [
    "arr14.shape"
   ]
  },
  {
   "cell_type": "code",
   "execution_count": 43,
   "id": "801ae509-7a46-4558-ad3d-52fae9861bfe",
   "metadata": {},
   "outputs": [
    {
     "data": {
      "text/plain": [
       "24"
      ]
     },
     "execution_count": 43,
     "metadata": {},
     "output_type": "execute_result"
    }
   ],
   "source": [
    "arr14.size"
   ]
  },
  {
   "cell_type": "code",
   "execution_count": 44,
   "id": "a8e44c91-45d1-4c16-91ca-67d49999962e",
   "metadata": {},
   "outputs": [],
   "source": [
    "arr14.resize(3, 2, 2, 2)"
   ]
  },
  {
   "cell_type": "code",
   "execution_count": 45,
   "id": "cc0d7dd4-c178-48e6-b023-de44bf6beb23",
   "metadata": {
    "scrolled": true
   },
   "outputs": [
    {
     "data": {
      "text/plain": [
       "array([[[[ 8, 10],\n",
       "         [ 7,  9]],\n",
       "\n",
       "        [[13, 14],\n",
       "         [ 4,  8]]],\n",
       "\n",
       "\n",
       "       [[[ 9,  6],\n",
       "         [13,  7]],\n",
       "\n",
       "        [[14,  5],\n",
       "         [ 4, 11]]],\n",
       "\n",
       "\n",
       "       [[[ 8,  9],\n",
       "         [12,  9]],\n",
       "\n",
       "        [[12,  5],\n",
       "         [11, 14]]]])"
      ]
     },
     "execution_count": 45,
     "metadata": {},
     "output_type": "execute_result"
    }
   ],
   "source": [
    "arr14"
   ]
  },
  {
   "cell_type": "code",
   "execution_count": 46,
   "id": "6aef8f7a-aec0-4a2b-a424-9b46ce92ab97",
   "metadata": {},
   "outputs": [
    {
     "data": {
      "text/plain": [
       "(3, 2, 2, 2)"
      ]
     },
     "execution_count": 46,
     "metadata": {},
     "output_type": "execute_result"
    }
   ],
   "source": [
    "arr14.shape"
   ]
  },
  {
   "cell_type": "code",
   "execution_count": 47,
   "id": "cb9d8a49-c9fb-447b-bf6d-30a95db18eb3",
   "metadata": {},
   "outputs": [
    {
     "data": {
      "text/plain": [
       "24"
      ]
     },
     "execution_count": 47,
     "metadata": {},
     "output_type": "execute_result"
    }
   ],
   "source": [
    "arr14.size"
   ]
  },
  {
   "cell_type": "code",
   "execution_count": 48,
   "id": "f49cdf5b-56d7-4140-89e9-af4549abf499",
   "metadata": {
    "scrolled": true
   },
   "outputs": [
    {
     "data": {
      "text/plain": [
       "array([[[[ 8, 10],\n",
       "         [ 7,  9]],\n",
       "\n",
       "        [[13, 14],\n",
       "         [ 4,  8]]],\n",
       "\n",
       "\n",
       "       [[[ 9,  6],\n",
       "         [13,  7]],\n",
       "\n",
       "        [[14,  5],\n",
       "         [ 4, 11]]],\n",
       "\n",
       "\n",
       "       [[[ 8,  9],\n",
       "         [12,  9]],\n",
       "\n",
       "        [[12,  5],\n",
       "         [11, 14]]]])"
      ]
     },
     "execution_count": 48,
     "metadata": {},
     "output_type": "execute_result"
    }
   ],
   "source": [
    "arr14"
   ]
  },
  {
   "cell_type": "code",
   "execution_count": 49,
   "id": "a3258e4a-2f2e-45bd-b561-f987175e268c",
   "metadata": {},
   "outputs": [
    {
     "data": {
      "text/plain": [
       "array([[ 8, 10,  7,  9, 13, 14,  4,  8,  9,  6, 13,  7, 14,  5,  4, 11,\n",
       "         8,  9, 12,  9, 12,  5, 11, 14]])"
      ]
     },
     "execution_count": 49,
     "metadata": {},
     "output_type": "execute_result"
    }
   ],
   "source": [
    "arr14.reshape(1, 24)"
   ]
  },
  {
   "cell_type": "code",
   "execution_count": 50,
   "id": "36fa04ab-9743-4e38-ab7a-20e8f6bd1062",
   "metadata": {},
   "outputs": [
    {
     "data": {
      "text/plain": [
       "array([ 8, 10,  7,  9, 13, 14,  4,  8,  9,  6, 13,  7, 14,  5,  4, 11,  8,\n",
       "        9, 12,  9, 12,  5, 11, 14])"
      ]
     },
     "execution_count": 50,
     "metadata": {},
     "output_type": "execute_result"
    }
   ],
   "source": [
    "arr14.ravel()"
   ]
  },
  {
   "cell_type": "markdown",
   "id": "c3233f3c-a4c0-4b70-ab4f-ec870c17c75b",
   "metadata": {},
   "source": [
    "## Numpy array mathematical operation"
   ]
  },
  {
   "cell_type": "code",
   "execution_count": 51,
   "id": "6e750739-07f4-4620-a71f-7073d0336d22",
   "metadata": {},
   "outputs": [
    {
     "data": {
      "text/plain": [
       "(array([[ 2,  6],\n",
       "        [-3,  1]]),\n",
       " array([[ 9,  3],\n",
       "        [-1, -8]]))"
      ]
     },
     "execution_count": 51,
     "metadata": {},
     "output_type": "execute_result"
    }
   ],
   "source": [
    "a = np.array([[2, 6], [-3, 1]])\n",
    "b = np.array([[9, 3], [-1, -8]])\n",
    "a, b"
   ]
  },
  {
   "cell_type": "code",
   "execution_count": 52,
   "id": "e8d6eea8-7423-4a17-ba45-c62919c135a6",
   "metadata": {},
   "outputs": [
    {
     "data": {
      "text/plain": [
       "array([[11,  9],\n",
       "       [-4, -7]])"
      ]
     },
     "execution_count": 52,
     "metadata": {},
     "output_type": "execute_result"
    }
   ],
   "source": [
    "a + b"
   ]
  },
  {
   "cell_type": "code",
   "execution_count": 53,
   "id": "190f7eab-2d82-4d4f-8044-2bed8b7ae2ff",
   "metadata": {},
   "outputs": [
    {
     "data": {
      "text/plain": [
       "array([[-7,  3],\n",
       "       [-2,  9]])"
      ]
     },
     "execution_count": 53,
     "metadata": {},
     "output_type": "execute_result"
    }
   ],
   "source": [
    "a - b"
   ]
  },
  {
   "cell_type": "code",
   "execution_count": 54,
   "id": "bd894825-c8d6-491b-bb9d-33e01016be38",
   "metadata": {},
   "outputs": [
    {
     "data": {
      "text/plain": [
       "array([[18, 18],\n",
       "       [ 3, -8]])"
      ]
     },
     "execution_count": 54,
     "metadata": {},
     "output_type": "execute_result"
    }
   ],
   "source": [
    "a * b"
   ]
  },
  {
   "cell_type": "code",
   "execution_count": 55,
   "id": "e86e3da1-132c-49c0-a650-832a1ec54ba8",
   "metadata": {},
   "outputs": [
    {
     "data": {
      "text/plain": [
       "array([[ 2,  6],\n",
       "       [-3,  1]])"
      ]
     },
     "execution_count": 55,
     "metadata": {},
     "output_type": "execute_result"
    }
   ],
   "source": [
    "a"
   ]
  },
  {
   "cell_type": "code",
   "execution_count": 56,
   "id": "0d2ef04d-20d1-42b4-813f-98c60012d24f",
   "metadata": {},
   "outputs": [
    {
     "data": {
      "text/plain": [
       "array([[12, 16],\n",
       "       [ 7, 11]])"
      ]
     },
     "execution_count": 56,
     "metadata": {},
     "output_type": "execute_result"
    }
   ],
   "source": [
    "a + 10"
   ]
  },
  {
   "cell_type": "code",
   "execution_count": 57,
   "id": "1a25466a-8f53-4aa9-a767-32ff65c72194",
   "metadata": {},
   "outputs": [
    {
     "data": {
      "text/plain": [
       "array([[-1,  3],\n",
       "       [-6, -2]])"
      ]
     },
     "execution_count": 57,
     "metadata": {},
     "output_type": "execute_result"
    }
   ],
   "source": [
    "a - 3"
   ]
  },
  {
   "cell_type": "code",
   "execution_count": 58,
   "id": "db7b7c7c-7e23-4cbd-90f4-51721abe9343",
   "metadata": {},
   "outputs": [
    {
     "data": {
      "text/plain": [
       "array([[ 0.22222222,  2.        ],\n",
       "       [ 3.        , -0.125     ]])"
      ]
     },
     "execution_count": 58,
     "metadata": {},
     "output_type": "execute_result"
    }
   ],
   "source": [
    "a / b"
   ]
  },
  {
   "cell_type": "markdown",
   "id": "b78a7e3c-ed8c-430b-ad45-f67d8d8fc973",
   "metadata": {},
   "source": [
    "## Statistical Operations on Array"
   ]
  },
  {
   "cell_type": "code",
   "execution_count": 59,
   "id": "db75be7c-606a-4ebb-9d6e-d3a5d4d70c6d",
   "metadata": {},
   "outputs": [
    {
     "data": {
      "text/plain": [
       "array([[39,  1, 68, 35, 90],\n",
       "       [41, 61, 94, 63, 77],\n",
       "       [39, 49, 29, 43, 68],\n",
       "       [22, 73, 25, 67, 45]])"
      ]
     },
     "execution_count": 59,
     "metadata": {},
     "output_type": "execute_result"
    }
   ],
   "source": [
    "arr15 =  np.random.randint(1, 99, 20).reshape(4, 5)\n",
    "arr15"
   ]
  },
  {
   "cell_type": "code",
   "execution_count": 60,
   "id": "30a1f9f1-e38b-43af-9270-91a02bc45920",
   "metadata": {},
   "outputs": [
    {
     "data": {
      "text/plain": [
       "51.45"
      ]
     },
     "execution_count": 60,
     "metadata": {},
     "output_type": "execute_result"
    }
   ],
   "source": [
    "arr15.mean()"
   ]
  },
  {
   "cell_type": "code",
   "execution_count": 61,
   "id": "a8b60649-d172-41ca-827c-cc637cdec477",
   "metadata": {},
   "outputs": [
    {
     "data": {
      "text/plain": [
       "23.29479555608935"
      ]
     },
     "execution_count": 61,
     "metadata": {},
     "output_type": "execute_result"
    }
   ],
   "source": [
    "arr15.std()"
   ]
  },
  {
   "cell_type": "code",
   "execution_count": 62,
   "id": "405999dc-83ee-4ead-a6fc-0ba93d0b9e42",
   "metadata": {},
   "outputs": [
    {
     "data": {
      "text/plain": [
       "1"
      ]
     },
     "execution_count": 62,
     "metadata": {},
     "output_type": "execute_result"
    }
   ],
   "source": [
    "arr15.min()"
   ]
  },
  {
   "cell_type": "code",
   "execution_count": 63,
   "id": "6953f5f3-fbb7-40a1-baff-3c9aba2f7775",
   "metadata": {},
   "outputs": [
    {
     "data": {
      "text/plain": [
       "94"
      ]
     },
     "execution_count": 63,
     "metadata": {},
     "output_type": "execute_result"
    }
   ],
   "source": [
    "arr15.max()"
   ]
  },
  {
   "cell_type": "code",
   "execution_count": 64,
   "id": "b8f1860c-8546-421a-964c-1f02c1d80ab9",
   "metadata": {},
   "outputs": [
    {
     "data": {
      "text/plain": [
       "47.0"
      ]
     },
     "execution_count": 64,
     "metadata": {},
     "output_type": "execute_result"
    }
   ],
   "source": [
    "np.median(arr15)"
   ]
  },
  {
   "cell_type": "code",
   "execution_count": 65,
   "id": "b5c68ef7-bb7e-49f7-9965-5c3ea0ec53ee",
   "metadata": {},
   "outputs": [
    {
     "data": {
      "text/plain": [
       "array([[ 9,  3],\n",
       "       [-1, -8]])"
      ]
     },
     "execution_count": 65,
     "metadata": {},
     "output_type": "execute_result"
    }
   ],
   "source": [
    "b"
   ]
  },
  {
   "cell_type": "code",
   "execution_count": 66,
   "id": "7095db12-24a4-49bd-8c69-3182c2689043",
   "metadata": {},
   "outputs": [
    {
     "data": {
      "text/plain": [
       "array([[9, 3],\n",
       "       [1, 8]])"
      ]
     },
     "execution_count": 66,
     "metadata": {},
     "output_type": "execute_result"
    }
   ],
   "source": [
    "np.abs(b)"
   ]
  },
  {
   "cell_type": "code",
   "execution_count": 67,
   "id": "0ccd122b-6de0-424b-b2b1-934ffec316b5",
   "metadata": {
    "scrolled": true
   },
   "outputs": [
    {
     "data": {
      "text/plain": [
       "array([176.98220143, 161.73645432, 151.90423444, 172.97158706,\n",
       "       175.92914297, 169.9820579 , 169.55346567, 175.21255774,\n",
       "       175.81189353, 187.84940571, 159.83162432, 167.95016934,\n",
       "       162.18339231, 158.16381697, 180.78289559, 151.3230258 ,\n",
       "       162.92919763, 173.41532929, 159.55752971, 159.69157475,\n",
       "       153.25605809, 168.25367764, 148.84657034, 169.11328256,\n",
       "       160.89451004, 171.78942407, 161.53091493, 153.9705481 ,\n",
       "       173.73065673, 149.66071874, 173.92342728, 177.41091055,\n",
       "       170.99208042, 171.84227394, 165.17951582, 167.42067522,\n",
       "       183.33214007, 165.37283727, 167.89951158, 153.95227852,\n",
       "       168.75185707, 157.23762843, 161.87553114, 171.73858023,\n",
       "       164.35836078, 164.95329046, 183.81945458, 173.06874876,\n",
       "       174.0589369 , 168.28989453, 164.11700216, 171.01647978,\n",
       "       167.05760105, 173.05544115, 165.43952587, 162.27714715,\n",
       "       185.84731381, 171.71314908, 157.24538638, 153.96754538,\n",
       "       169.6331103 , 170.52307549, 163.86139416, 172.47818733,\n",
       "       172.54659111, 162.64668857, 152.59549175, 161.35600313,\n",
       "       167.80227484, 168.50132649, 168.7424544 , 162.04226964,\n",
       "       168.08868786, 164.83791992, 176.94188566, 164.40934813,\n",
       "       159.78717626, 146.16844727, 180.27808807, 167.05449757,\n",
       "       162.45419746, 174.28170124, 156.76746871, 168.3320542 ,\n",
       "       176.91261962, 165.26760321, 174.44444134, 168.00352052,\n",
       "       169.47953702, 178.11922777, 173.98285298, 164.82020323,\n",
       "       175.29232592, 168.87751363, 160.81691246, 163.48701833,\n",
       "       147.74770324, 156.41319332, 165.09251895, 145.32515071])"
      ]
     },
     "execution_count": 67,
     "metadata": {},
     "output_type": "execute_result"
    }
   ],
   "source": [
    "height_100_people"
   ]
  },
  {
   "cell_type": "code",
   "execution_count": 68,
   "id": "ce701f41-be01-4be2-897a-8e8bf15ca759",
   "metadata": {
    "scrolled": true
   },
   "outputs": [
    {
     "data": {
      "text/plain": [
       "array([176.98, 161.74, 151.9 , 172.97, 175.93, 169.98, 169.55, 175.21,\n",
       "       175.81, 187.85, 159.83, 167.95, 162.18, 158.16, 180.78, 151.32,\n",
       "       162.93, 173.42, 159.56, 159.69, 153.26, 168.25, 148.85, 169.11,\n",
       "       160.89, 171.79, 161.53, 153.97, 173.73, 149.66, 173.92, 177.41,\n",
       "       170.99, 171.84, 165.18, 167.42, 183.33, 165.37, 167.9 , 153.95,\n",
       "       168.75, 157.24, 161.88, 171.74, 164.36, 164.95, 183.82, 173.07,\n",
       "       174.06, 168.29, 164.12, 171.02, 167.06, 173.06, 165.44, 162.28,\n",
       "       185.85, 171.71, 157.25, 153.97, 169.63, 170.52, 163.86, 172.48,\n",
       "       172.55, 162.65, 152.6 , 161.36, 167.8 , 168.5 , 168.74, 162.04,\n",
       "       168.09, 164.84, 176.94, 164.41, 159.79, 146.17, 180.28, 167.05,\n",
       "       162.45, 174.28, 156.77, 168.33, 176.91, 165.27, 174.44, 168.  ,\n",
       "       169.48, 178.12, 173.98, 164.82, 175.29, 168.88, 160.82, 163.49,\n",
       "       147.75, 156.41, 165.09, 145.33])"
      ]
     },
     "execution_count": 68,
     "metadata": {},
     "output_type": "execute_result"
    }
   ],
   "source": [
    "np.round(height_100_people, decimals=2)"
   ]
  },
  {
   "cell_type": "code",
   "execution_count": 69,
   "id": "a8334ddd-05f9-4525-9c25-ea795e0ee630",
   "metadata": {},
   "outputs": [
    {
     "data": {
      "text/plain": [
       "array([[39,  1, 68, 35, 90],\n",
       "       [41, 61, 94, 63, 77],\n",
       "       [39, 49, 29, 43, 68],\n",
       "       [22, 73, 25, 67, 45]])"
      ]
     },
     "execution_count": 69,
     "metadata": {},
     "output_type": "execute_result"
    }
   ],
   "source": [
    "arr15"
   ]
  },
  {
   "cell_type": "code",
   "execution_count": 70,
   "id": "47cefef4-b86e-468b-a09c-e6ed27fa9c53",
   "metadata": {},
   "outputs": [
    {
     "data": {
      "text/plain": [
       "array([46.6, 67.2, 45.6, 46.4])"
      ]
     },
     "execution_count": 70,
     "metadata": {},
     "output_type": "execute_result"
    }
   ],
   "source": [
    "np.mean(arr15, axis=1)"
   ]
  },
  {
   "cell_type": "code",
   "execution_count": 71,
   "id": "4db35325-b647-4efa-8937-91f9427333c5",
   "metadata": {},
   "outputs": [
    {
     "data": {
      "text/plain": [
       "array([35.25, 46.  , 54.  , 52.  , 70.  ])"
      ]
     },
     "execution_count": 71,
     "metadata": {},
     "output_type": "execute_result"
    }
   ],
   "source": [
    "np.mean(arr15, axis=0)"
   ]
  },
  {
   "cell_type": "code",
   "execution_count": 72,
   "id": "017cf8fd-3b27-47ca-bf34-ab94b94ad8ea",
   "metadata": {},
   "outputs": [
    {
     "data": {
      "text/plain": [
       "1029"
      ]
     },
     "execution_count": 72,
     "metadata": {},
     "output_type": "execute_result"
    }
   ],
   "source": [
    "np.sum(arr15)"
   ]
  },
  {
   "cell_type": "code",
   "execution_count": 73,
   "id": "da5fb0d1-2177-477d-a879-1b35575b1709",
   "metadata": {},
   "outputs": [
    {
     "data": {
      "text/plain": [
       "array([233, 336, 228, 232])"
      ]
     },
     "execution_count": 73,
     "metadata": {},
     "output_type": "execute_result"
    }
   ],
   "source": [
    "np.sum(arr15, axis=1)"
   ]
  },
  {
   "cell_type": "code",
   "execution_count": 74,
   "id": "71d48e9f-d797-46c3-9df1-fe7c751e59a1",
   "metadata": {},
   "outputs": [
    {
     "data": {
      "text/plain": [
       "array([141, 184, 216, 208, 280])"
      ]
     },
     "execution_count": 74,
     "metadata": {},
     "output_type": "execute_result"
    }
   ],
   "source": [
    "np.sum(arr15, axis=0)"
   ]
  },
  {
   "cell_type": "code",
   "execution_count": 75,
   "id": "b824efdb-ef8f-44e9-a9d6-67763d798c8e",
   "metadata": {},
   "outputs": [
    {
     "data": {
      "text/plain": [
       "array([5, 9, 2, 1, 7, 8])"
      ]
     },
     "execution_count": 75,
     "metadata": {},
     "output_type": "execute_result"
    }
   ],
   "source": [
    "arr1"
   ]
  },
  {
   "cell_type": "code",
   "execution_count": 76,
   "id": "c0408c86-045b-4863-bcc3-dc265d427fd9",
   "metadata": {},
   "outputs": [
    {
     "data": {
      "text/plain": [
       "array([ 5,  9,  2,  1,  7,  8, 10])"
      ]
     },
     "execution_count": 76,
     "metadata": {},
     "output_type": "execute_result"
    }
   ],
   "source": [
    "np.append(arr1, 10)"
   ]
  },
  {
   "cell_type": "code",
   "execution_count": 77,
   "id": "d6e41bed-e2d1-45fa-ad93-e02a70f36929",
   "metadata": {},
   "outputs": [
    {
     "data": {
      "text/plain": [
       "array([39,  1, 68, 35, 90, 41, 61, 94, 63, 77, 39, 49, 29, 43, 68, 22, 73,\n",
       "       25, 67, 45, 10])"
      ]
     },
     "execution_count": 77,
     "metadata": {},
     "output_type": "execute_result"
    }
   ],
   "source": [
    "np.append(arr15, 10)"
   ]
  },
  {
   "cell_type": "code",
   "execution_count": 78,
   "id": "0398d273-ad6a-4f39-9e44-9f97a6b89bcb",
   "metadata": {
    "scrolled": true
   },
   "outputs": [
    {
     "data": {
      "text/plain": [
       "array([[39,  1, 68, 35, 90],\n",
       "       [41, 61, 94, 63, 77],\n",
       "       [39, 49, 29, 43, 68],\n",
       "       [22, 73, 25, 67, 45]])"
      ]
     },
     "execution_count": 78,
     "metadata": {},
     "output_type": "execute_result"
    }
   ],
   "source": [
    "arr15"
   ]
  },
  {
   "cell_type": "code",
   "execution_count": 79,
   "id": "4f2cd72a-e73a-4263-a2c7-2fc0546b77c7",
   "metadata": {
    "scrolled": true
   },
   "outputs": [
    {
     "data": {
      "text/plain": [
       "array([[39,  1, 68, 35, 90, 10],\n",
       "       [41, 61, 94, 63, 77, 10],\n",
       "       [39, 49, 29, 43, 68, 10],\n",
       "       [22, 73, 25, 67, 45, 10]])"
      ]
     },
     "execution_count": 79,
     "metadata": {},
     "output_type": "execute_result"
    }
   ],
   "source": [
    "np.append(arr15, [[10],[10],[10],[10]], axis=1)"
   ]
  },
  {
   "cell_type": "code",
   "execution_count": 80,
   "id": "2e82333c-2d8e-4ff8-892b-079b3649bfa1",
   "metadata": {},
   "outputs": [
    {
     "data": {
      "text/plain": [
       "array([[39,  1, 68, 35, 90],\n",
       "       [41, 61, 94, 63, 77],\n",
       "       [39, 49, 29, 43, 68],\n",
       "       [22, 73, 25, 67, 45],\n",
       "       [10, 10, 10, 10, 10]])"
      ]
     },
     "execution_count": 80,
     "metadata": {},
     "output_type": "execute_result"
    }
   ],
   "source": [
    "np.append(arr15, [[10, 10, 10, 10, 10]], axis=0)"
   ]
  },
  {
   "cell_type": "code",
   "execution_count": 83,
   "id": "a8b3ca87-7c5a-458c-af65-bf0a85b4d3b2",
   "metadata": {},
   "outputs": [],
   "source": [
    "data_from_file = np.loadtxt(\"demo.csv\", delimiter=\",\", dtype=int)"
   ]
  },
  {
   "cell_type": "code",
   "execution_count": 84,
   "id": "e3dfb946-4c6e-423a-b7ff-519c54d3eda6",
   "metadata": {},
   "outputs": [
    {
     "data": {
      "text/plain": [
       "array([[12,  4, 83, 53],\n",
       "       [85, 21,  9, -1],\n",
       "       [93, 45, 14,  8]])"
      ]
     },
     "execution_count": 84,
     "metadata": {},
     "output_type": "execute_result"
    }
   ],
   "source": [
    "data_from_file"
   ]
  },
  {
   "cell_type": "code",
   "execution_count": 92,
   "id": "f5e0d229-7f60-4efd-aba9-47536dda837e",
   "metadata": {},
   "outputs": [],
   "source": [
    "data_from_file2 = np.genfromtxt(\"demo2.csv\", delimiter=\",\", dtype=int, filling_values=0)"
   ]
  },
  {
   "cell_type": "code",
   "execution_count": 93,
   "id": "9fae4b25-56d7-4e06-81a3-fb6a8cf8880f",
   "metadata": {},
   "outputs": [
    {
     "data": {
      "text/plain": [
       "array([[12,  4, 83, 53],\n",
       "       [85,  0,  9, -1],\n",
       "       [93, 45, 14,  8]])"
      ]
     },
     "execution_count": 93,
     "metadata": {},
     "output_type": "execute_result"
    }
   ],
   "source": [
    "data_from_file2"
   ]
  },
  {
   "cell_type": "code",
   "execution_count": 94,
   "id": "c8f59a31-7f41-4671-93d6-24550faf97d5",
   "metadata": {},
   "outputs": [
    {
     "data": {
      "text/plain": [
       "array([[39,  1, 68, 35, 90],\n",
       "       [41, 61, 94, 63, 77],\n",
       "       [39, 49, 29, 43, 68],\n",
       "       [22, 73, 25, 67, 45]])"
      ]
     },
     "execution_count": 94,
     "metadata": {},
     "output_type": "execute_result"
    }
   ],
   "source": [
    "arr15"
   ]
  },
  {
   "cell_type": "code",
   "execution_count": 98,
   "id": "60ba4bab-2e3f-4af0-909f-8e6fde7077f9",
   "metadata": {},
   "outputs": [],
   "source": [
    "np.savetxt(\"data_from_numpy.csv\", arr15,  delimiter=\",\", fmt=\"%d\")"
   ]
  },
  {
   "cell_type": "code",
   "execution_count": 99,
   "id": "890044ef-2cc4-4320-ae2e-573d4eb08e0e",
   "metadata": {},
   "outputs": [],
   "source": [
    "np.save(\"numpy_data.np\", arr15)"
   ]
  },
  {
   "cell_type": "code",
   "execution_count": 101,
   "id": "419808a2-e14b-4409-8d88-7e14c03289cf",
   "metadata": {},
   "outputs": [
    {
     "data": {
      "text/plain": [
       "array([[39,  1, 68, 35, 90],\n",
       "       [41, 61, 94, 63, 77],\n",
       "       [39, 49, 29, 43, 68],\n",
       "       [22, 73, 25, 67, 45]])"
      ]
     },
     "execution_count": 101,
     "metadata": {},
     "output_type": "execute_result"
    }
   ],
   "source": [
    "np.load(\"numpy_data.np.npy\")"
   ]
  },
  {
   "cell_type": "code",
   "execution_count": 102,
   "id": "6de94eb6-1877-4f97-8dec-3037a2802e31",
   "metadata": {},
   "outputs": [
    {
     "data": {
      "text/plain": [
       "array([[9, 4, 1, 8],\n",
       "       [5, 7, 5, 6],\n",
       "       [8, 1, 4, 3]])"
      ]
     },
     "execution_count": 102,
     "metadata": {},
     "output_type": "execute_result"
    }
   ],
   "source": [
    "p = np.random.randint(1, 10, 12).reshape(3, 4)\n",
    "p"
   ]
  },
  {
   "cell_type": "code",
   "execution_count": 103,
   "id": "4c62e2cb-cab0-461a-a93b-50597ef7db8f",
   "metadata": {},
   "outputs": [
    {
     "data": {
      "text/plain": [
       "array([[9, 3, 1, 9, 1],\n",
       "       [2, 5, 5, 1, 4],\n",
       "       [5, 9, 6, 7, 8],\n",
       "       [7, 5, 9, 8, 5]])"
      ]
     },
     "execution_count": 103,
     "metadata": {},
     "output_type": "execute_result"
    }
   ],
   "source": [
    "q = np.random.randint(1, 10, 20).reshape(4, 5)\n",
    "q"
   ]
  },
  {
   "cell_type": "code",
   "execution_count": 104,
   "id": "ab123f44-8ea9-44bd-a274-a96aa5b9c3e9",
   "metadata": {},
   "outputs": [
    {
     "data": {
      "text/plain": [
       "array([[150,  96, 107, 156,  73],\n",
       "       [126, 125, 124, 135, 103],\n",
       "       [115,  80,  64, 125,  59]])"
      ]
     },
     "execution_count": 104,
     "metadata": {},
     "output_type": "execute_result"
    }
   ],
   "source": [
    "p.dot(q)"
   ]
  },
  {
   "cell_type": "code",
   "execution_count": 105,
   "id": "ce3d94ab-aa93-4dd4-baa5-0b3df9cc98c0",
   "metadata": {},
   "outputs": [
    {
     "data": {
      "text/plain": [
       "array([[150,  96, 107, 156,  73],\n",
       "       [126, 125, 124, 135, 103],\n",
       "       [115,  80,  64, 125,  59]])"
      ]
     },
     "execution_count": 105,
     "metadata": {},
     "output_type": "execute_result"
    }
   ],
   "source": [
    "np.dot(p, q)"
   ]
  },
  {
   "cell_type": "code",
   "execution_count": 108,
   "id": "1423236c-6079-4b38-a3ef-0e337012970c",
   "metadata": {},
   "outputs": [
    {
     "data": {
      "text/plain": [
       "array([[0., 0., 0., 0.],\n",
       "       [0., 0., 0., 0.],\n",
       "       [0., 0., 0., 0.]])"
      ]
     },
     "execution_count": 108,
     "metadata": {},
     "output_type": "execute_result"
    }
   ],
   "source": [
    "zero_arr = np.zeros((3, 4))\n",
    "zero_arr"
   ]
  },
  {
   "cell_type": "code",
   "execution_count": 109,
   "id": "0916fb37-dc51-439b-adf5-33868a84890d",
   "metadata": {},
   "outputs": [
    {
     "data": {
      "text/plain": [
       "array([[1., 1., 1.],\n",
       "       [1., 1., 1.],\n",
       "       [1., 1., 1.],\n",
       "       [1., 1., 1.]])"
      ]
     },
     "execution_count": 109,
     "metadata": {},
     "output_type": "execute_result"
    }
   ],
   "source": [
    "ones_arr = np.ones((4, 3))\n",
    "ones_arr"
   ]
  },
  {
   "cell_type": "code",
   "execution_count": 111,
   "id": "b7cf4032-0510-4d22-aaba-f9f91cd07024",
   "metadata": {
    "scrolled": true
   },
   "outputs": [
    {
     "data": {
      "text/plain": [
       "array([[1., 0., 0., 0.],\n",
       "       [0., 1., 0., 0.],\n",
       "       [0., 0., 1., 0.],\n",
       "       [0., 0., 0., 1.]])"
      ]
     },
     "execution_count": 111,
     "metadata": {},
     "output_type": "execute_result"
    }
   ],
   "source": [
    "i = np.eye(4)\n",
    "i"
   ]
  },
  {
   "cell_type": "code",
   "execution_count": 114,
   "id": "5e55c1e3-c1b1-42ae-b7d4-8acf6a10dea9",
   "metadata": {
    "scrolled": true
   },
   "outputs": [
    {
     "data": {
      "text/plain": [
       "array([[9, 4, 1, 8],\n",
       "       [5, 7, 5, 6],\n",
       "       [8, 1, 4, 3]])"
      ]
     },
     "execution_count": 114,
     "metadata": {},
     "output_type": "execute_result"
    }
   ],
   "source": [
    "p"
   ]
  },
  {
   "cell_type": "code",
   "execution_count": 115,
   "id": "3d05e247-4dd9-4015-809b-960f294ab12d",
   "metadata": {
    "scrolled": true
   },
   "outputs": [
    {
     "data": {
      "text/plain": [
       "array([[9., 4., 1., 8.],\n",
       "       [5., 7., 5., 6.],\n",
       "       [8., 1., 4., 3.]])"
      ]
     },
     "execution_count": 115,
     "metadata": {},
     "output_type": "execute_result"
    }
   ],
   "source": [
    "p.dot(i)"
   ]
  },
  {
   "cell_type": "code",
   "execution_count": 118,
   "id": "0d8eafdb-cb85-4691-bcb8-e99c2dc9a54e",
   "metadata": {
    "scrolled": true
   },
   "outputs": [
    {
     "data": {
      "text/plain": [
       "array([[59, 41, 37, 39],\n",
       "       [54, 34, 42, 49],\n",
       "       [34, 44, 45, 49],\n",
       "       [55, 54, 53, 36]])"
      ]
     },
     "execution_count": 118,
     "metadata": {},
     "output_type": "execute_result"
    }
   ],
   "source": [
    "sq = np.random.randint(30, 60, 16).reshape(4, 4)\n",
    "sq"
   ]
  },
  {
   "cell_type": "code",
   "execution_count": 119,
   "id": "792c34e8-2a6a-4648-8645-5ac78ea37ef5",
   "metadata": {},
   "outputs": [
    {
     "data": {
      "text/plain": [
       "174"
      ]
     },
     "execution_count": 119,
     "metadata": {},
     "output_type": "execute_result"
    }
   ],
   "source": [
    "sq.trace()"
   ]
  },
  {
   "cell_type": "code",
   "execution_count": 120,
   "id": "233cfa9d-c239-44be-b1a7-e17816181502",
   "metadata": {
    "scrolled": true
   },
   "outputs": [
    {
     "data": {
      "text/plain": [
       "array([[59, 54, 34, 55],\n",
       "       [41, 34, 44, 54],\n",
       "       [37, 42, 45, 53],\n",
       "       [39, 49, 49, 36]])"
      ]
     },
     "execution_count": 120,
     "metadata": {},
     "output_type": "execute_result"
    }
   ],
   "source": [
    "sq.T"
   ]
  },
  {
   "cell_type": "code",
   "execution_count": 121,
   "id": "47c98789-5f1e-4806-93ce-afc90b6279be",
   "metadata": {
    "scrolled": true
   },
   "outputs": [
    {
     "data": {
      "text/plain": [
       "array([[9, 4, 1, 8],\n",
       "       [5, 7, 5, 6],\n",
       "       [8, 1, 4, 3]])"
      ]
     },
     "execution_count": 121,
     "metadata": {},
     "output_type": "execute_result"
    }
   ],
   "source": [
    "p"
   ]
  },
  {
   "cell_type": "code",
   "execution_count": 122,
   "id": "5ed0cf50-6c24-4bee-837a-fac126fe653e",
   "metadata": {
    "scrolled": true
   },
   "outputs": [
    {
     "data": {
      "text/plain": [
       "array([[9, 5, 8],\n",
       "       [4, 7, 1],\n",
       "       [1, 5, 4],\n",
       "       [8, 6, 3]])"
      ]
     },
     "execution_count": 122,
     "metadata": {},
     "output_type": "execute_result"
    }
   ],
   "source": [
    "p.T"
   ]
  },
  {
   "cell_type": "code",
   "execution_count": 126,
   "id": "300e7e0c-2b3d-46f9-bd75-25c5ec27a3ca",
   "metadata": {},
   "outputs": [
    {
     "data": {
      "text/plain": [
       "array([[2, 1],\n",
       "       [4, 2]])"
      ]
     },
     "execution_count": 126,
     "metadata": {},
     "output_type": "execute_result"
    }
   ],
   "source": [
    "mat = np.array([[2, 1], [4, 2]])\n",
    "mat"
   ]
  },
  {
   "cell_type": "code",
   "execution_count": 127,
   "id": "627177d2-ff8a-4978-9863-005e0bb58e4b",
   "metadata": {},
   "outputs": [
    {
     "data": {
      "text/plain": [
       "0.0"
      ]
     },
     "execution_count": 127,
     "metadata": {},
     "output_type": "execute_result"
    }
   ],
   "source": [
    "np.linalg.det(mat)"
   ]
  },
  {
   "cell_type": "code",
   "execution_count": 124,
   "id": "a35ccbf9-d25e-41fd-bd7d-43f9b718295e",
   "metadata": {},
   "outputs": [
    {
     "data": {
      "text/plain": [
       "310960.9999999998"
      ]
     },
     "execution_count": 124,
     "metadata": {},
     "output_type": "execute_result"
    }
   ],
   "source": [
    "np.linalg.det(sq)"
   ]
  },
  {
   "cell_type": "code",
   "execution_count": 128,
   "id": "986918c1-31a8-4a6a-af47-3f3cc2ef095b",
   "metadata": {},
   "outputs": [
    {
     "data": {
      "text/plain": [
       "array([[ 4,  1],\n",
       "       [16,  4]])"
      ]
     },
     "execution_count": 128,
     "metadata": {},
     "output_type": "execute_result"
    }
   ],
   "source": [
    "np.square(mat)"
   ]
  },
  {
   "cell_type": "code",
   "execution_count": 129,
   "id": "4f0852c8-1bd7-40e7-aa9d-4206ac0b063e",
   "metadata": {},
   "outputs": [
    {
     "data": {
      "text/plain": [
       "array([[1.41421356, 1.        ],\n",
       "       [2.        , 1.41421356]])"
      ]
     },
     "execution_count": 129,
     "metadata": {},
     "output_type": "execute_result"
    }
   ],
   "source": [
    "np.sqrt(mat)"
   ]
  },
  {
   "cell_type": "markdown",
   "id": "8457ab61-e865-49a4-95b4-b83ce469a964",
   "metadata": {},
   "source": [
    "### Create a random number matrix of 16 elements and 1) Reshape in it atleast 3 ways in 2d, 3d format, find its trace value and its Transpose"
   ]
  },
  {
   "cell_type": "code",
   "execution_count": 131,
   "id": "79b1b489-4de4-4a10-92dc-f3680d77f823",
   "metadata": {},
   "outputs": [
    {
     "data": {
      "text/plain": [
       "array([13, 48, 43, 43, 38, 49, 25, 28,  4, 48, 26, 23, 36, 40, 40, 14])"
      ]
     },
     "execution_count": 131,
     "metadata": {},
     "output_type": "execute_result"
    }
   ],
   "source": [
    "mat1 = np.random.randint(1, 50, 16)\n",
    "mat1"
   ]
  },
  {
   "cell_type": "code",
   "execution_count": 132,
   "id": "f30b5894-3c7b-4de9-bf34-18b534d73971",
   "metadata": {
    "scrolled": true
   },
   "outputs": [
    {
     "data": {
      "text/plain": [
       "array([[13, 48, 43, 43],\n",
       "       [38, 49, 25, 28],\n",
       "       [ 4, 48, 26, 23],\n",
       "       [36, 40, 40, 14]])"
      ]
     },
     "execution_count": 132,
     "metadata": {},
     "output_type": "execute_result"
    }
   ],
   "source": [
    "mat1.reshape(4, 4)"
   ]
  },
  {
   "cell_type": "code",
   "execution_count": 133,
   "id": "b118c6ec-a86c-41fc-8af1-1b9982c94bda",
   "metadata": {
    "scrolled": true
   },
   "outputs": [
    {
     "data": {
      "text/plain": [
       "array([[13, 48],\n",
       "       [43, 43],\n",
       "       [38, 49],\n",
       "       [25, 28],\n",
       "       [ 4, 48],\n",
       "       [26, 23],\n",
       "       [36, 40],\n",
       "       [40, 14]])"
      ]
     },
     "execution_count": 133,
     "metadata": {},
     "output_type": "execute_result"
    }
   ],
   "source": [
    "mat1.reshape(8,2)"
   ]
  },
  {
   "cell_type": "code",
   "execution_count": 134,
   "id": "7665978d-8a69-4132-b877-d210fc713388",
   "metadata": {
    "scrolled": true
   },
   "outputs": [
    {
     "data": {
      "text/plain": [
       "array([[[13, 48],\n",
       "        [43, 43],\n",
       "        [38, 49],\n",
       "        [25, 28]],\n",
       "\n",
       "       [[ 4, 48],\n",
       "        [26, 23],\n",
       "        [36, 40],\n",
       "        [40, 14]]])"
      ]
     },
     "execution_count": 134,
     "metadata": {},
     "output_type": "execute_result"
    }
   ],
   "source": [
    "mat1.reshape(2, 4, 2)"
   ]
  },
  {
   "cell_type": "code",
   "execution_count": 135,
   "id": "7f9a56ce-87d7-47b7-8efb-1d14b6ca1e3d",
   "metadata": {},
   "outputs": [],
   "source": [
    "mat1.resize(4, 4)"
   ]
  },
  {
   "cell_type": "code",
   "execution_count": 136,
   "id": "6b30e2b0-4a61-43b0-8281-a9aae8c8a9f9",
   "metadata": {
    "scrolled": true
   },
   "outputs": [
    {
     "data": {
      "text/plain": [
       "array([[13, 48, 43, 43],\n",
       "       [38, 49, 25, 28],\n",
       "       [ 4, 48, 26, 23],\n",
       "       [36, 40, 40, 14]])"
      ]
     },
     "execution_count": 136,
     "metadata": {},
     "output_type": "execute_result"
    }
   ],
   "source": [
    "mat1"
   ]
  },
  {
   "cell_type": "code",
   "execution_count": 138,
   "id": "f94893b1-95b4-46b5-bcdd-369786e06798",
   "metadata": {},
   "outputs": [
    {
     "data": {
      "text/plain": [
       "102"
      ]
     },
     "execution_count": 138,
     "metadata": {},
     "output_type": "execute_result"
    }
   ],
   "source": [
    "mat1.trace()"
   ]
  },
  {
   "cell_type": "code",
   "execution_count": 139,
   "id": "2c7e871d-9282-44dc-9df5-9525f863f34d",
   "metadata": {},
   "outputs": [
    {
     "data": {
      "text/plain": [
       "array([[13, 38,  4, 36],\n",
       "       [48, 49, 48, 40],\n",
       "       [43, 25, 26, 40],\n",
       "       [43, 28, 23, 14]])"
      ]
     },
     "execution_count": 139,
     "metadata": {},
     "output_type": "execute_result"
    }
   ],
   "source": [
    "mat1.T"
   ]
  },
  {
   "cell_type": "code",
   "execution_count": 140,
   "id": "2149b0e4-6144-4eb4-a2b5-dd34385e6bfc",
   "metadata": {},
   "outputs": [
    {
     "data": {
      "text/plain": [
       "array([[13, 48, 43, 43],\n",
       "       [38, 49, 25, 28],\n",
       "       [ 4, 48, 26, 23],\n",
       "       [36, 40, 40, 14]])"
      ]
     },
     "execution_count": 140,
     "metadata": {},
     "output_type": "execute_result"
    }
   ],
   "source": [
    "mat1"
   ]
  },
  {
   "cell_type": "code",
   "execution_count": 143,
   "id": "bfbd5758-4eff-46c1-83b7-7c1b611fee3b",
   "metadata": {},
   "outputs": [
    {
     "data": {
      "text/plain": [
       "array([ 4, 48, 26, 23])"
      ]
     },
     "execution_count": 143,
     "metadata": {},
     "output_type": "execute_result"
    }
   ],
   "source": [
    "mat1[2]"
   ]
  },
  {
   "cell_type": "code",
   "execution_count": 144,
   "id": "71c53955-3346-4955-a9a4-867754205326",
   "metadata": {},
   "outputs": [
    {
     "data": {
      "text/plain": [
       "array([43, 25, 26, 40])"
      ]
     },
     "execution_count": 144,
     "metadata": {},
     "output_type": "execute_result"
    }
   ],
   "source": [
    "mat1[:,2]"
   ]
  },
  {
   "cell_type": "code",
   "execution_count": 145,
   "id": "013cfc9a-0680-43bb-8ae9-d959cac1974f",
   "metadata": {},
   "outputs": [
    {
     "data": {
      "text/plain": [
       "array([43, 28, 23, 14])"
      ]
     },
     "execution_count": 145,
     "metadata": {},
     "output_type": "execute_result"
    }
   ],
   "source": [
    "mat1[:, -1]"
   ]
  },
  {
   "cell_type": "code",
   "execution_count": 147,
   "id": "1dd5adf7-e416-4e81-a0d1-23c142baa6f1",
   "metadata": {},
   "outputs": [
    {
     "data": {
      "text/plain": [
       "array([[49, 25],\n",
       "       [48, 26]])"
      ]
     },
     "execution_count": 147,
     "metadata": {},
     "output_type": "execute_result"
    }
   ],
   "source": [
    "mat1[1:3, 1:3]"
   ]
  },
  {
   "cell_type": "code",
   "execution_count": 148,
   "id": "679a614a-4a1a-4637-8aa6-1b0ca45a711c",
   "metadata": {},
   "outputs": [
    {
     "data": {
      "text/plain": [
       "array([[25, 28],\n",
       "       [26, 23],\n",
       "       [40, 14]])"
      ]
     },
     "execution_count": 148,
     "metadata": {},
     "output_type": "execute_result"
    }
   ],
   "source": [
    "mat1[1:, 2:]"
   ]
  },
  {
   "cell_type": "code",
   "execution_count": 149,
   "id": "2dd304d5-fad9-41d4-b637-b56785cd7b17",
   "metadata": {},
   "outputs": [
    {
     "data": {
      "text/plain": [
       "array([[13, 48, 43, 43],\n",
       "       [38, 49, 25, 28],\n",
       "       [ 4, 48, 26, 23],\n",
       "       [36, 40, 40, 14]])"
      ]
     },
     "execution_count": 149,
     "metadata": {},
     "output_type": "execute_result"
    }
   ],
   "source": [
    "mat1"
   ]
  },
  {
   "cell_type": "code",
   "execution_count": 152,
   "id": "19e00e5c-9910-4ed1-82e0-8d0cbf9ef99c",
   "metadata": {},
   "outputs": [
    {
     "data": {
      "text/plain": [
       "array([[13, 43],\n",
       "       [38, 25],\n",
       "       [ 4, 26],\n",
       "       [36, 40]])"
      ]
     },
     "execution_count": 152,
     "metadata": {},
     "output_type": "execute_result"
    }
   ],
   "source": [
    "mat1[:, 0::2]"
   ]
  },
  {
   "cell_type": "code",
   "execution_count": 153,
   "id": "4c275272-6a2f-457d-98b9-95e9ffac40dc",
   "metadata": {},
   "outputs": [
    {
     "data": {
      "text/plain": [
       "array([[48, 43],\n",
       "       [40, 40]])"
      ]
     },
     "execution_count": 153,
     "metadata": {},
     "output_type": "execute_result"
    }
   ],
   "source": [
    "mat1[0::3, 1:3]"
   ]
  },
  {
   "cell_type": "code",
   "execution_count": 156,
   "id": "017d6bb5-bc85-4c99-b97b-6af2fec3f561",
   "metadata": {},
   "outputs": [
    {
     "data": {
      "text/plain": [
       "array([[43, 43],\n",
       "       [26, 23],\n",
       "       [40, 14]])"
      ]
     },
     "execution_count": 156,
     "metadata": {},
     "output_type": "execute_result"
    }
   ],
   "source": [
    "mat1[[0, 2, 3], 2:]"
   ]
  },
  {
   "cell_type": "code",
   "execution_count": 157,
   "id": "52be488e-63bd-44a8-b53e-088cd50b1432",
   "metadata": {},
   "outputs": [],
   "source": [
    "arr20 = np.arange(1, 101).reshape(10, 10).T"
   ]
  },
  {
   "cell_type": "code",
   "execution_count": 158,
   "id": "5b9203f3-e40b-4bfc-84e6-32fc19c21737",
   "metadata": {},
   "outputs": [
    {
     "data": {
      "text/plain": [
       "array([[  1,  11,  21,  31,  41,  51,  61,  71,  81,  91],\n",
       "       [  2,  12,  22,  32,  42,  52,  62,  72,  82,  92],\n",
       "       [  3,  13,  23,  33,  43,  53,  63,  73,  83,  93],\n",
       "       [  4,  14,  24,  34,  44,  54,  64,  74,  84,  94],\n",
       "       [  5,  15,  25,  35,  45,  55,  65,  75,  85,  95],\n",
       "       [  6,  16,  26,  36,  46,  56,  66,  76,  86,  96],\n",
       "       [  7,  17,  27,  37,  47,  57,  67,  77,  87,  97],\n",
       "       [  8,  18,  28,  38,  48,  58,  68,  78,  88,  98],\n",
       "       [  9,  19,  29,  39,  49,  59,  69,  79,  89,  99],\n",
       "       [ 10,  20,  30,  40,  50,  60,  70,  80,  90, 100]])"
      ]
     },
     "execution_count": 158,
     "metadata": {},
     "output_type": "execute_result"
    }
   ],
   "source": [
    "arr20"
   ]
  },
  {
   "cell_type": "raw",
   "id": "2ba627ee-a5ad-49b7-b004-4f5651bb3d50",
   "metadata": {},
   "source": [
    "[[32, 42, 52],\n",
    " [33, 43, 53]]"
   ]
  },
  {
   "cell_type": "raw",
   "id": "dbf863cb-1a60-42c0-b06b-09c50197f6c0",
   "metadata": {},
   "source": [
    "[[33,  43,  53,  63,  73,  83,  93],\n",
    " [34,  44,  54,  64,  74,  84,  94],\n",
    " [36,  46,  56,  66,  76,  86,  96],\n",
    " [38,  48,  58,  68,  78,  88,  98]]"
   ]
  },
  {
   "cell_type": "raw",
   "id": "4b0b46e7-c6e7-4aa1-b4a6-d7c6fb6f51d6",
   "metadata": {},
   "source": [
    "[[21, 41, 61],\n",
    " [23, 43, 63],\n",
    " [25, 45, 65]]"
   ]
  },
  {
   "cell_type": "raw",
   "id": "f447765e-b168-4859-9c6f-a0cdd3e2e44a",
   "metadata": {},
   "source": [
    "[[23, 53, 63, 83],\n",
    " [25, 55, 65, 85],\n",
    " [27, 57, 67, 87],\n",
    " [29, 59, 69, 89]]"
   ]
  },
  {
   "cell_type": "code",
   "execution_count": 161,
   "id": "338247e3-1b7e-4af0-a4a9-f8e9e1b28b83",
   "metadata": {},
   "outputs": [
    {
     "data": {
      "text/plain": [
       "array([[32, 42, 52],\n",
       "       [33, 43, 53]])"
      ]
     },
     "execution_count": 161,
     "metadata": {},
     "output_type": "execute_result"
    }
   ],
   "source": [
    "arr20[1:3, 3:6]"
   ]
  },
  {
   "cell_type": "code",
   "execution_count": 164,
   "id": "d246864c-9499-4b39-b7af-ac2461bcde00",
   "metadata": {},
   "outputs": [
    {
     "data": {
      "text/plain": [
       "array([[33, 43, 53, 63, 73, 83, 93],\n",
       "       [34, 44, 54, 64, 74, 84, 94],\n",
       "       [36, 46, 56, 66, 76, 86, 96],\n",
       "       [38, 48, 58, 68, 78, 88, 98]])"
      ]
     },
     "execution_count": 164,
     "metadata": {},
     "output_type": "execute_result"
    }
   ],
   "source": [
    "arr20[[2, 3, 5, 7], 3:]"
   ]
  },
  {
   "cell_type": "code",
   "execution_count": 167,
   "id": "ed7ed983-2993-470d-b710-7875a61756e2",
   "metadata": {},
   "outputs": [
    {
     "data": {
      "text/plain": [
       "array([[21, 41, 61],\n",
       "       [23, 43, 63],\n",
       "       [25, 45, 65]])"
      ]
     },
     "execution_count": 167,
     "metadata": {},
     "output_type": "execute_result"
    }
   ],
   "source": [
    "arr20[:5:2, 2:7:2]"
   ]
  },
  {
   "cell_type": "code",
   "execution_count": 170,
   "id": "e0dd22da-1da8-4499-be1c-dfba3940bab8",
   "metadata": {},
   "outputs": [
    {
     "data": {
      "text/plain": [
       "array([[23, 53, 63, 83],\n",
       "       [25, 55, 65, 85],\n",
       "       [27, 57, 67, 87],\n",
       "       [29, 59, 69, 89]])"
      ]
     },
     "execution_count": 170,
     "metadata": {},
     "output_type": "execute_result"
    }
   ],
   "source": [
    "arr20[2::2, [2, 5, 6, 8]]"
   ]
  },
  {
   "cell_type": "code",
   "execution_count": 172,
   "id": "b8e5400c-8cbc-493a-b6dd-2b0172303811",
   "metadata": {},
   "outputs": [
    {
     "data": {
      "text/plain": [
       "array([[12.,  4., 83., 53.],\n",
       "       [85., nan,  9., -1.],\n",
       "       [93., 45., 14.,  8.]])"
      ]
     },
     "execution_count": 172,
     "metadata": {},
     "output_type": "execute_result"
    }
   ],
   "source": [
    "np.genfromtxt(r\"C:\\Users\\Soft\\Desktop\\Py\\Docs\\demo2.csv\", delimiter=\",\")"
   ]
  },
  {
   "cell_type": "code",
   "execution_count": null,
   "id": "0adf723a-04e3-4944-9e75-1c889644bb9d",
   "metadata": {},
   "outputs": [],
   "source": []
  }
 ],
 "metadata": {
  "kernelspec": {
   "display_name": "Python 3 (ipykernel)",
   "language": "python",
   "name": "python3"
  },
  "language_info": {
   "codemirror_mode": {
    "name": "ipython",
    "version": 3
   },
   "file_extension": ".py",
   "mimetype": "text/x-python",
   "name": "python",
   "nbconvert_exporter": "python",
   "pygments_lexer": "ipython3",
   "version": "3.11.7"
  },
  "widgets": {
   "application/vnd.jupyter.widget-state+json": {
    "state": {},
    "version_major": 2,
    "version_minor": 0
   }
  }
 },
 "nbformat": 4,
 "nbformat_minor": 5
}
