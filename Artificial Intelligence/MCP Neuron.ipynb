{
 "cells": [
  {
   "cell_type": "code",
   "execution_count": 1,
   "id": "d8bc72cf-cc62-4fc8-8e16-7b0bd508de3b",
   "metadata": {},
   "outputs": [],
   "source": [
    "import numpy as np"
   ]
  },
  {
   "cell_type": "code",
   "execution_count": 2,
   "id": "a2efd1d3-d641-4934-855d-1f1e34184c38",
   "metadata": {},
   "outputs": [],
   "source": [
    "inp_data = np.array([[0, 0], [0, 1], [1, 0], [1, 1]])\n",
    "AND_out = np.array([0, 0, 0, 1])\n",
    "OR_out = np.array([0, 1, 1, 1])"
   ]
  },
  {
   "cell_type": "code",
   "execution_count": 6,
   "id": "471330f5-727e-4857-bfda-3bd10e0470d4",
   "metadata": {},
   "outputs": [],
   "source": [
    "def neuron_AND(inp):\n",
    "    out = []\n",
    "    for i in inp:\n",
    "        if np.sum(i) > 1.5:\n",
    "            out.append(1)\n",
    "        else:\n",
    "            out.append(0)\n",
    "    return np.array(out)"
   ]
  },
  {
   "cell_type": "code",
   "execution_count": 7,
   "id": "8462488b-6df7-4596-a6f9-93321adaf7dd",
   "metadata": {},
   "outputs": [],
   "source": [
    "res_AND = neuron_AND(inp_data)"
   ]
  },
  {
   "cell_type": "code",
   "execution_count": 8,
   "id": "39a15f57-34b3-4a74-baae-9149af73c8c9",
   "metadata": {},
   "outputs": [
    {
     "data": {
      "text/plain": [
       "array([0, 0, 0, 1])"
      ]
     },
     "execution_count": 8,
     "metadata": {},
     "output_type": "execute_result"
    }
   ],
   "source": [
    "res_AND"
   ]
  },
  {
   "cell_type": "code",
   "execution_count": 9,
   "id": "cf393fea-b20d-4809-a234-dc510c16456d",
   "metadata": {},
   "outputs": [],
   "source": [
    "def neuron_OR(inp):\n",
    "    out = []\n",
    "    for i in inp:\n",
    "        if np.sum(i) > 0.5:\n",
    "            out.append(1)\n",
    "        else:\n",
    "            out.append(0)\n",
    "    return np.array(out)"
   ]
  },
  {
   "cell_type": "code",
   "execution_count": 10,
   "id": "1e9f3f7c-c451-4ac9-a71c-20ef88b03939",
   "metadata": {},
   "outputs": [],
   "source": [
    "res_OR = neuron_OR(inp_data)"
   ]
  },
  {
   "cell_type": "code",
   "execution_count": 11,
   "id": "09d21f42-e46d-47b6-a51c-8107f04c1775",
   "metadata": {},
   "outputs": [
    {
     "data": {
      "text/plain": [
       "array([0, 1, 1, 1])"
      ]
     },
     "execution_count": 11,
     "metadata": {},
     "output_type": "execute_result"
    }
   ],
   "source": [
    "res_OR"
   ]
  },
  {
   "cell_type": "code",
   "execution_count": null,
   "id": "9555a0b5-1e86-46e5-9ccc-126a44e24cc2",
   "metadata": {},
   "outputs": [],
   "source": []
  }
 ],
 "metadata": {
  "kernelspec": {
   "display_name": "Python 3 (ipykernel)",
   "language": "python",
   "name": "python3"
  },
  "language_info": {
   "codemirror_mode": {
    "name": "ipython",
    "version": 3
   },
   "file_extension": ".py",
   "mimetype": "text/x-python",
   "name": "python",
   "nbconvert_exporter": "python",
   "pygments_lexer": "ipython3",
   "version": "3.11.9"
  },
  "widgets": {
   "application/vnd.jupyter.widget-state+json": {
    "state": {},
    "version_major": 2,
    "version_minor": 0
   }
  }
 },
 "nbformat": 4,
 "nbformat_minor": 5
}
