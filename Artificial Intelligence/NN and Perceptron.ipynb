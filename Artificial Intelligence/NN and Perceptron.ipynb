{
 "cells": [
  {
   "cell_type": "code",
   "execution_count": 19,
   "id": "15010795-3d4d-4ae2-ae55-b744b484fbc8",
   "metadata": {},
   "outputs": [],
   "source": [
    "import numpy as np\n",
    "import matplotlib.pyplot as plt"
   ]
  },
  {
   "cell_type": "code",
   "execution_count": 30,
   "id": "e9ca142f-16c6-4ecc-8585-81c47241c8c1",
   "metadata": {},
   "outputs": [],
   "source": [
    "class Perceptron:\n",
    "    def __init__(self, input_dim, learning_rate, epochs):\n",
    "        self.epochs = epochs\n",
    "        self.lr = learning_rate\n",
    "        self.weights = np.random.rand(input_dim)\n",
    "        self.bias = np.random.rand()\n",
    "        self.error_list = []\n",
    "\n",
    "    def step_function(self, x):\n",
    "        return 1 if x > 94 else 0\n",
    "\n",
    "    def predict(self, inp):\n",
    "        weighted_sum = np.dot(inp, self.weights) + self.bias\n",
    "        return self.step_function(weighted_sum)\n",
    "\n",
    "    def fit(self, inp, out):\n",
    "        for i in range(self.epochs):\n",
    "            for j in range(len(inp)):\n",
    "                pred = self.predict(inp[j])\n",
    "                error = out[j] - pred\n",
    "                self.weights += (self.lr * error * inp[j])\n",
    "                self.bias += (self.lr * error)\n",
    "            self.error_list.append(error)"
   ]
  },
  {
   "cell_type": "code",
   "execution_count": 31,
   "id": "cb239902-0326-465c-baba-b791bde897a1",
   "metadata": {},
   "outputs": [],
   "source": [
    "inp_data = np.array([[0, 0], [0, 1], [1, 0], [1, 1]])\n",
    "AND_out = np.array([0, 0, 0, 1])"
   ]
  },
  {
   "cell_type": "code",
   "execution_count": 32,
   "id": "ba59df06-0f43-4cba-bcec-0515d1366eab",
   "metadata": {},
   "outputs": [],
   "source": [
    "and_perceptron = Perceptron(input_dim = 2, learning_rate = 0.5, epochs = 1000)"
   ]
  },
  {
   "cell_type": "code",
   "execution_count": 33,
   "id": "4a6a02fc-d785-4398-8f17-da74d73e1d08",
   "metadata": {},
   "outputs": [],
   "source": [
    "and_perceptron.fit(inp_data, AND_out)"
   ]
  },
  {
   "cell_type": "code",
   "execution_count": 34,
   "id": "88e8a5eb-b661-4297-9010-17fe0e338a34",
   "metadata": {},
   "outputs": [
    {
     "data": {
      "text/plain": [
       "1"
      ]
     },
     "execution_count": 34,
     "metadata": {},
     "output_type": "execute_result"
    }
   ],
   "source": [
    "and_perceptron.predict([1, 1])"
   ]
  },
  {
   "cell_type": "code",
   "execution_count": 35,
   "id": "e54c1d45-d177-4887-a5b8-87ec99ac176d",
   "metadata": {},
   "outputs": [
    {
     "data": {
      "text/plain": [
       "0"
      ]
     },
     "execution_count": 35,
     "metadata": {},
     "output_type": "execute_result"
    }
   ],
   "source": [
    "and_perceptron.predict([0, 1])"
   ]
  },
  {
   "cell_type": "code",
   "execution_count": 36,
   "id": "930532a4-0be1-44c6-8401-807dbf9cbfd6",
   "metadata": {},
   "outputs": [
    {
     "data": {
      "text/plain": [
       "[0, 0, 0, 1]"
      ]
     },
     "execution_count": 36,
     "metadata": {},
     "output_type": "execute_result"
    }
   ],
   "source": [
    "[and_perceptron.predict(i) for i in inp_data]"
   ]
  },
  {
   "cell_type": "code",
   "execution_count": 38,
   "id": "a3f356d7-a052-4227-8bc4-b18836017076",
   "metadata": {},
   "outputs": [
    {
     "data": {
      "text/plain": [
       "<matplotlib.collections.PathCollection at 0x1ee900c36d0>"
      ]
     },
     "execution_count": 38,
     "metadata": {},
     "output_type": "execute_result"
    },
    {
     "data": {
      "image/png": "[encoded data removed]",
      "text/plain": [
       "<Figure size 640x480 with 1 Axes>"
      ]
     },
     "metadata": {},
     "output_type": "display_data"
    }
   ],
   "source": [
    "plt.scatter(range(100), and_perceptron.error_list[:100])"
   ]
  },
  {
   "cell_type": "code",
   "execution_count": 29,
   "id": "1f43e167-5e0e-4708-be61-03a7a3b4656e",
   "metadata": {},
   "outputs": [
    {
     "data": {
      "text/plain": [
       "4000"
      ]
     },
     "execution_count": 29,
     "metadata": {},
     "output_type": "execute_result"
    }
   ],
   "source": [
    "len(and_perceptron.error_list)"
   ]
  },
  {
   "cell_type": "code",
   "execution_count": null,
   "id": "021dbb72-3e74-4f78-81e4-31aa767961ba",
   "metadata": {},
   "outputs": [],
   "source": []
  },
  {
   "cell_type": "code",
   "execution_count": 9,
   "id": "f6702ae4-535d-4062-a2e7-6740ee40262e",
   "metadata": {},
   "outputs": [],
   "source": [
    "or_perceptron = Perceptron(input_dim = 2, learning_rate = 0.5, epochs = 1000)"
   ]
  },
  {
   "cell_type": "code",
   "execution_count": 10,
   "id": "e962a6e4-0d9d-40f0-8989-4b42851a8946",
   "metadata": {},
   "outputs": [],
   "source": [
    "OR_out = np.array([0, 1, 1, 1])"
   ]
  },
  {
   "cell_type": "code",
   "execution_count": 11,
   "id": "e6ed47b7-e4d1-4c85-9f33-571bc28bce19",
   "metadata": {},
   "outputs": [],
   "source": [
    "or_perceptron.fit(inp_data, OR_out)"
   ]
  },
  {
   "cell_type": "code",
   "execution_count": 12,
   "id": "41b12e96-b687-4dc5-ab14-2d95b04faeee",
   "metadata": {},
   "outputs": [
    {
     "data": {
      "text/plain": [
       "1"
      ]
     },
     "execution_count": 12,
     "metadata": {},
     "output_type": "execute_result"
    }
   ],
   "source": [
    "or_perceptron.predict([1, 1])"
   ]
  },
  {
   "cell_type": "code",
   "execution_count": 13,
   "id": "5504bcff-0642-403b-ba36-169496236518",
   "metadata": {},
   "outputs": [
    {
     "data": {
      "text/plain": [
       "[0, 1, 1, 1]"
      ]
     },
     "execution_count": 13,
     "metadata": {},
     "output_type": "execute_result"
    }
   ],
   "source": [
    "[or_perceptron.predict(i) for i in inp_data]"
   ]
  },
  {
   "cell_type": "code",
   "execution_count": null,
   "id": "b6c9ff81-1221-4770-ac48-3f2b4fa491cc",
   "metadata": {},
   "outputs": [],
   "source": []
  },
  {
   "cell_type": "code",
   "execution_count": 14,
   "id": "ff6b6354-1363-4f9d-9e82-bf88cc19d8d5",
   "metadata": {},
   "outputs": [],
   "source": [
    "XOR_out = np.array([0, 1, 1, 0])"
   ]
  },
  {
   "cell_type": "code",
   "execution_count": 15,
   "id": "21ac7f2b-2b9c-461d-be27-fb9f1fda148e",
   "metadata": {},
   "outputs": [],
   "source": [
    "xor_perceptron = Perceptron(input_dim = 2, learning_rate = 0.5, epochs = 5000)"
   ]
  },
  {
   "cell_type": "code",
   "execution_count": 16,
   "id": "3bea748c-2075-41ed-9bc8-f29ef22a37d7",
   "metadata": {},
   "outputs": [],
   "source": [
    "xor_perceptron.fit(inp_data, XOR_out)"
   ]
  },
  {
   "cell_type": "code",
   "execution_count": 17,
   "id": "806236c8-5dfc-4555-978d-b6cd647f4f41",
   "metadata": {},
   "outputs": [
    {
     "data": {
      "text/plain": [
       "1"
      ]
     },
     "execution_count": 17,
     "metadata": {},
     "output_type": "execute_result"
    }
   ],
   "source": [
    "xor_perceptron.predict([0, 0])"
   ]
  },
  {
   "cell_type": "code",
   "execution_count": 18,
   "id": "416d3bef-7cb3-4a3c-a05c-da76561773d1",
   "metadata": {},
   "outputs": [
    {
     "data": {
      "text/plain": [
       "0"
      ]
     },
     "execution_count": 18,
     "metadata": {},
     "output_type": "execute_result"
    }
   ],
   "source": [
    "xor_perceptron.predict([1, 0])"
   ]
  },
  {
   "cell_type": "code",
   "execution_count": null,
   "id": "b16a60b7-8707-494b-86a5-20c23626e201",
   "metadata": {},
   "outputs": [],
   "source": []
  }
 ],
 "metadata": {
  "kernelspec": {
   "display_name": "Python 3 (ipykernel)",
   "language": "python",
   "name": "python3"
  },
  "language_info": {
   "codemirror_mode": {
    "name": "ipython",
    "version": 3
   },
   "file_extension": ".py",
   "mimetype": "text/x-python",
   "name": "python",
   "nbconvert_exporter": "python",
   "pygments_lexer": "ipython3",
   "version": "3.11.9"
  },
  "widgets": {
   "application/vnd.jupyter.widget-state+json": {
    "state": {},
    "version_major": 2,
    "version_minor": 0
   }
  }
 },
 "nbformat": 4,
 "nbformat_minor": 5
}
